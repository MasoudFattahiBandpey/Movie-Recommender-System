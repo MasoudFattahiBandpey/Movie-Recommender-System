{
 "cells": [
  {
   "cell_type": "markdown",
   "id": "f15135c7-279d-45a1-bb70-b728fe4b18a5",
   "metadata": {},
   "source": [
    "# Movie Recommender System: Building Movie Recommendations with Machine Learning"
   ]
  },
  {
   "cell_type": "markdown",
   "id": "b804ffff-3495-476b-a82e-18206db6cd22",
   "metadata": {},
   "source": [
    "<img src='https://nb.anaconda.cloud/jupyterhub/user/a2a2dc6f-6467-44f3-b89e-1bb721679838/files/movie.jpg?_xsrf=2%7C75d2dfa2%7Cea269568e63cde6c5fd0b7a72b735e9c%7C1720791501'>"
   ]
  },
  {
   "cell_type": "markdown",
   "id": "b7fb1d19-d2f6-499f-8932-c05bbb7127c6",
   "metadata": {},
   "source": [
    "##### Masoud Fattahi Bandpey  July 2024"
   ]
  },
  {
   "cell_type": "markdown",
   "id": "a07a1027-e1b9-4ef5-ad3c-09d3439a1670",
   "metadata": {},
   "source": [
    "### 1. Introduction\r\n",
    "In today’s world of entertainment, movies have a big impact on how we see the world and feel. With so many movies out there in different types, on different platforms, and in different languages, choosing a movie can be frustrating and time-consuming. Streaming platforms face challenges too. If people can’t easily find movies they enjoy, platforms miss out on revenue opportunities and risk losing users. This highlights the importance of smart movie recommendation systems in both enhancing user experience and driving business success.\r\n",
    "\r\n",
    "A Machine Learning Recommender System is a powerful tool that addresses these challenges. For businesses, its primary objective is to increase user engagement and revenue through personalized movie suggestions and targeted promotions. For users, it’s like having a knowledgeable friend who saves you time by recommending movies tailored to your tastes. This is crucial in an age where the sheer volume of available movies can be overwhelming.\r\n",
    "\r\n",
    "Machine Learning Recommender System also can takes into account various factors to make its recommendations. It considers user profiles, including age and gender, as well as past watching history. It also evaluates movie details like genre, director, and ratings. On top of that, the system observes user behavior on the platform, such as what they click on and how long they watch. All these elements contribute to making personalized and relevant recommendations."
   ]
  },
  {
   "cell_type": "markdown",
   "id": "40da93bc-5c26-419b-a2bd-6096d97818a7",
   "metadata": {},
   "source": [
    "<center>\n",
    "    <img src=\"https://nb.anaconda.cloud/jupyterhub/user/a2a2dc6f-6467-44f3-b89e-1bb721679838/files/Screenshot%202024-07-12%20170245.jpg?_xsrf=2%7C75d2dfa2%7Cea269568e63cde6c5fd0b7a72b735e9c%7C1720791501\" style=\"width:50%;\">\n",
    "</center>"
   ]
  },
  {
   "cell_type": "markdown",
   "id": "e9cbc63d-37f9-4a6b-ae22-79c2c19fba23",
   "metadata": {},
   "source": [
    "In this article, we will explore the algorithms and techniques that enable these features, such as collaborative filtering, content-based filtering, and hybrid models that blend the strengths of both approaches. We will also discuss how the system incorporates layers of personalization through features like weighted scores, genre-specific recommendation, and real-time adaptability based on user behavior."
   ]
  },
  {
   "cell_type": "markdown",
   "id": "90bd8b77-95c2-40c2-a863-6876e95a5b0e",
   "metadata": {},
   "source": [
    "\n",
    "<center>\n",
    "    <img src=\"https://nb.anaconda.cloud/jupyterhub/user/a2a2dc6f-6467-44f3-b89e-1bb721679838/files/Screenshot%202024-07-12%20012351.jpg?_xsrf=2%7C75d2dfa2%7Cea269568e63cde6c5fd0b7a72b735e9c%7C1720791501\" alt=\"Screenshot 2024-07-12 012309\" style=\"width:50%;\">\n",
    "</center>\n",
    "\n"
   ]
  },
  {
   "cell_type": "markdown",
   "id": "bd8029a8-36ae-4a48-92e4-1ff9564d1f26",
   "metadata": {},
   "source": [
    "We will touch upon how the system can cater to various scenarios like group recommendations and cold starts for new users. Special attention we will evaluate the system’s performance using metrics like RMSE (Root Mean Square Error) to gauge its accuracy and reliability.\n",
    "\n",
    "By the end of this article, we aim to provide a comprehensive understanding of how a Machine Learning Recommender System can transform movie discovery and enjoyment. The system not only enhances the user experience but also serves as a potent tool for businesses in optimizing user engagement and revenue."
   ]
  },
  {
   "cell_type": "markdown",
   "id": "0a495aff-399a-40a4-ad17-d465114ddbf4",
   "metadata": {},
   "source": [
    "### 2. Dataset & Features Description\r\n",
    "In this section, we will provide a comprehensive overview of the dataset used for building our movie recommender system. We have employed the Full MovieLens Dataset, which encompasses a rich repository of movie-related information including cast, crew, user-ratings, etc. The dataset can be obtained on Kaggle. Below, we break down the key aspects of the dataset:"
   ]
  },
  {
   "cell_type": "markdown",
   "id": "7158a0c6-dc23-42e6-89b6-011fc7285402",
   "metadata": {},
   "source": [
    "#### 2.1. Ratings Dataset (`ratings_small.csv`)\r\n",
    "This dataset serves as the backbone for building robust movie recommender systems, capturing user ratings for different movies. Columns:\n",
    "+ `userId`: Unique identifier for each user, crucial for tracking individual rating behaviors.\n",
    "+ `movieId`: Unique identifier for each movie, linking the ratings to specific movies.\n",
    "+ `rating`: The rating score given by the user to a movie, usually on a scale like 0.5-5 or 1-10.\n",
    "+ `timestamp`: Records the time when the rating was given, valuable for generating time-sensitive recommendations. f\n",
    "eature of each movies."
   ]
  },
  {
   "cell_type": "markdown",
   "id": "4c28bbcf-b4d4-48be-b319-ea685e5462aa",
   "metadata": {},
   "source": [
    "#### 2.2. Movies Dataset (`movie.csv`)\r\n",
    "\r\n",
    "A comprehensive collection of movie metadata that includes a variety of features ranging from the film’s title and tagline to its runtime and revenue. Column\n",
    "+ `id`: Unique identifier for each movie.\n",
    "+ `genres`: Categorizes each movie into one or multiple genres.\n",
    "+ `title`: The official title of the movie.\n",
    "+ `overview`: A brief description or synopsis of the movie.\n",
    "+ `revenue`: Financial earnings from box office and other sources.\n",
    "+ `vote_average`: The average rating given by viewers.\n",
    "+ `vote_count`: The total number of ratings the movie has received.\n",
    "+ other\n",
    "s:"
   ]
  },
  {
   "cell_type": "markdown",
   "id": "54eb3926-0985-440b-8f60-d5814213050a",
   "metadata": {},
   "source": [
    "#### 2.3. Keywords Dataset (`keywords.csv`)\n",
    "\n",
    "This dataset enriches the movies with a list of key phrases and words that contains a list of words or phrases that summarize the themes or unique features of each movies. These keywords can serve quick references to understand the main topic of the movies, plot elements, or unique feature of each movies."
   ]
  },
  {
   "cell_type": "markdown",
   "id": "7c475d9a-4c02-45e9-938e-4047737eb3a0",
   "metadata": {},
   "source": [
    "**Columns:**\n",
    "+ `id`: Unique identifier that can be used to merge with the movies dataset.\n",
    "+ `cast`: Lists the actors and their roles, valuable for actor-based recommendations.\n",
    "+ `crew`: Specifies the personnel involved in various aspects of production, such as directing and writing, useful for director- or writer-based recommendations."
   ]
  },
  {
   "cell_type": "markdown",
   "id": "25252119-1378-4380-9ae1-f0a28d5b1303",
   "metadata": {},
   "source": [
    "### 3. Data Preprocessing\n",
    "#### 3.1 Import Library\n",
    "Before we dive into the details of building our movie recommender system, let’s set the stage by importing the essential libraries and tools. These libraries will be the building blocks of our data analysis and modeling journey. We’ll also load the dataset files to initiate data exploration and analysis."
   ]
  },
  {
   "cell_type": "code",
   "execution_count": 32,
   "id": "257f71c3-51d3-4b21-9599-0f80506341c9",
   "metadata": {},
   "outputs": [],
   "source": [
    "# Data Manipulation\n",
    "import pandas as pd\n",
    "import numpy as np\n",
    "from math import sqrt\n",
    "\n",
    "# Data Visualization\n",
    "import seaborn as sns\n",
    "import matplotlib.pyplot as plt\n",
    "\n",
    "# Utilities\n",
    "from ast import literal_eval\n",
    "from collections import Counter\n",
    "import datetime\n",
    "import pickle\n",
    "from datetime import datetime\n",
    "\n",
    "# Scikit-learn\n",
    "from sklearn.model_selection import train_test_split\n",
    "from sklearn.metrics import mean_squared_error\n",
    "from sklearn.preprocessing import MinMaxScaler\n",
    "from sklearn.feature_extraction.text import CountVectorizer\n",
    "from sklearn.metrics.pairwise import cosine_similarity\n",
    "\n",
    "# Surprise Library\n",
    "from surprise import (Reader, Dataset, SVD, SVDpp, KNNBasic, NMF, CoClustering, SlopeOne,\n",
    "                      NormalPredictor, KNNBaseline, KNNWithMeans, KNNWithZScore, BaselineOnly,\n",
    "                      accuracy, accuracy)\n",
    "from surprise.model_selection import cross_validate\n",
    "from surprise.model_selection import GridSearchCV"
   ]
  },
  {
   "cell_type": "markdown",
   "id": "3e3a5c6e-048d-4d84-a311-43a6fd56e9d7",
   "metadata": {},
   "source": [
    "#### 3.2 Merge DataFrames for Comprehensive Data\n",
    "In this step, we aim to combine different DataFrames into one comprehensive dataset. Here’s how we’ll do it :\n",
    "1. **Base DataFrame:** Start with movies_df, which contains core details about each movie.\n",
    "2. **Additional Data:** Use keywords_df and credits_df to enrich this information of the movie.\n",
    "3. **Merging Criteria:** Link these DataFrames using the unique movie IDs as the common key."
   ]
  },
  {
   "cell_type": "code",
   "execution_count": 34,
   "id": "ad100dd3-2940-4554-9087-557a821d1dff",
   "metadata": {},
   "outputs": [
    {
     "name": "stdout",
     "output_type": "stream",
     "text": [
      "the shape of movies_df dataset : (11366, 24)\n",
      "the shape of keywords_df dataset : (11605, 2)\n",
      "the shape of credits_df dataset : (11369, 3)\n"
     ]
    }
   ],
   "source": [
    "movies_df=pd.read_csv('movies_metadata.csv',low_memory=False).sample(frac=0.25,replace=True,random_state=42)\n",
    "print(f'the shape of movies_df dataset : {movies_df.shape}')\n",
    "keywords_df=pd.read_csv('keywords.csv').sample(frac=0.25,replace=True,random_state=42)\n",
    "print(f'the shape of keywords_df dataset : {keywords_df.shape}')\n",
    "credits_df=pd.read_csv('credits.csv').sample(frac=0.25,replace=True,random_state=42)\n",
    "print(f'the shape of credits_df dataset : {credits_df.shape}')"
   ]
  },
  {
   "cell_type": "code",
   "execution_count": 35,
   "id": "f2c00e2e-bc5d-41c8-bcba-36089167565f",
   "metadata": {},
   "outputs": [],
   "source": [
    "movies_df = movies_df[~(movies_df['id'].str.contains('-'))]\n",
    "movies_df['id'] = movies_df['id'].astype('int64')\n",
    "movies_df = pd.merge(movies_df, keywords_df, on='id', how='left')\n",
    "movies_df = pd.merge(movies_df, credits_df, on='id', how='left')"
   ]
  },
  {
   "cell_type": "markdown",
   "id": "ecfe4a20-9167-45ca-a6ae-c289dfcf0a06",
   "metadata": {},
   "source": [
    "#### 3.3 Handle Missing Values\n",
    "After merging the data, the next step is to deal with missing values. we streamline our dataset by removing unnecessary columns, filling missing text data with ‘Unknown,’ and replacing missing numerical values with 0. This process ensures our data is clean and ready for analysis."
   ]
  },
  {
   "cell_type": "code",
   "execution_count": 37,
   "id": "6af4c467-69be-49db-b50c-723bd3da2b0a",
   "metadata": {},
   "outputs": [
    {
     "data": {
      "text/html": [
       "<div>\n",
       "<style scoped>\n",
       "    .dataframe tbody tr th:only-of-type {\n",
       "        vertical-align: middle;\n",
       "    }\n",
       "\n",
       "    .dataframe tbody tr th {\n",
       "        vertical-align: top;\n",
       "    }\n",
       "\n",
       "    .dataframe thead th {\n",
       "        text-align: right;\n",
       "    }\n",
       "</style>\n",
       "<table border=\"1\" class=\"dataframe\">\n",
       "  <thead>\n",
       "    <tr style=\"text-align: right;\">\n",
       "      <th></th>\n",
       "      <th>adult</th>\n",
       "      <th>budget</th>\n",
       "      <th>genres</th>\n",
       "      <th>id</th>\n",
       "      <th>imdb_id</th>\n",
       "      <th>original_language</th>\n",
       "      <th>original_title</th>\n",
       "      <th>overview</th>\n",
       "      <th>popularity</th>\n",
       "      <th>poster_path</th>\n",
       "      <th>...</th>\n",
       "      <th>revenue</th>\n",
       "      <th>runtime</th>\n",
       "      <th>spoken_languages</th>\n",
       "      <th>tagline</th>\n",
       "      <th>title</th>\n",
       "      <th>vote_average</th>\n",
       "      <th>vote_count</th>\n",
       "      <th>keywords</th>\n",
       "      <th>cast</th>\n",
       "      <th>crew</th>\n",
       "    </tr>\n",
       "  </thead>\n",
       "  <tbody>\n",
       "    <tr>\n",
       "      <th>0</th>\n",
       "      <td>False</td>\n",
       "      <td>90000</td>\n",
       "      <td>[{'id': 9648, 'name': 'Mystery'}, {'id': 27, '...</td>\n",
       "      <td>29424</td>\n",
       "      <td>tt0069239</td>\n",
       "      <td>en</td>\n",
       "      <td>Hungry Wives</td>\n",
       "      <td>A bored, unhappy suburban housewife gets mixed...</td>\n",
       "      <td>1.633103</td>\n",
       "      <td>/3Afgk8B3DwctuxdqDxRxSjwVZ2G.jpg</td>\n",
       "      <td>...</td>\n",
       "      <td>0.0</td>\n",
       "      <td>104.0</td>\n",
       "      <td>[{'iso_639_1': 'en', 'name': 'English'}]</td>\n",
       "      <td>Every Night is Halloween.</td>\n",
       "      <td>Hungry Wives</td>\n",
       "      <td>5.4</td>\n",
       "      <td>12.0</td>\n",
       "      <td>[{'id': 616, 'name': 'witch'}, {'id': 3030, 'n...</td>\n",
       "      <td>[{'cast_id': 8, 'character': 'Joan Mitchell', ...</td>\n",
       "      <td>[{'credit_id': '52fe45dec3a368484e0739cb', 'de...</td>\n",
       "    </tr>\n",
       "    <tr>\n",
       "      <th>1</th>\n",
       "      <td>False</td>\n",
       "      <td>0</td>\n",
       "      <td>[{'id': 18, 'name': 'Drama'}, {'id': 10749, 'n...</td>\n",
       "      <td>56077</td>\n",
       "      <td>tt0120271</td>\n",
       "      <td>en</td>\n",
       "      <td>Talk of Angels</td>\n",
       "      <td>This is the story of a young Irish woman who c...</td>\n",
       "      <td>0.978989</td>\n",
       "      <td>/ipDXrPjOLDBlBA4qB6Lo7Gm3jlI.jpg</td>\n",
       "      <td>...</td>\n",
       "      <td>0.0</td>\n",
       "      <td>96.0</td>\n",
       "      <td>[{'iso_639_1': 'en', 'name': 'English'}]</td>\n",
       "      <td></td>\n",
       "      <td>Talk of Angels</td>\n",
       "      <td>6.8</td>\n",
       "      <td>4.0</td>\n",
       "      <td>[{'id': 10183, 'name': 'independent film'}]</td>\n",
       "      <td>[{'cast_id': 1, 'character': 'Mary Lavelle', '...</td>\n",
       "      <td>[{'credit_id': '52fe48ecc3a36847f8180ae3', 'de...</td>\n",
       "    </tr>\n",
       "    <tr>\n",
       "      <th>2</th>\n",
       "      <td>False</td>\n",
       "      <td>0</td>\n",
       "      <td>[{'id': 53, 'name': 'Thriller'}, {'id': 10770,...</td>\n",
       "      <td>202637</td>\n",
       "      <td>tt0071374</td>\n",
       "      <td>en</td>\n",
       "      <td>A Cry in the Wilderness</td>\n",
       "      <td>The father of a wilderness family gets bitten ...</td>\n",
       "      <td>2.6e-05</td>\n",
       "      <td>/iCBKDnCbKvhIpPhYpochC49fyUX.jpg</td>\n",
       "      <td>...</td>\n",
       "      <td>0.0</td>\n",
       "      <td>74.0</td>\n",
       "      <td>[{'iso_639_1': 'en', 'name': 'English'}]</td>\n",
       "      <td></td>\n",
       "      <td>A Cry in the Wilderness</td>\n",
       "      <td>0.0</td>\n",
       "      <td>0.0</td>\n",
       "      <td>[{'id': 4776, 'name': 'race against time'}, {'...</td>\n",
       "      <td>[{'cast_id': 4, 'character': 'Sam Hadley', 'cr...</td>\n",
       "      <td>[{'credit_id': '5997ae1ec3a36821c8003205', 'de...</td>\n",
       "    </tr>\n",
       "    <tr>\n",
       "      <th>4</th>\n",
       "      <td>False</td>\n",
       "      <td>0</td>\n",
       "      <td>[{'id': 18, 'name': 'Drama'}]</td>\n",
       "      <td>66487</td>\n",
       "      <td>tt0086377</td>\n",
       "      <td>en</td>\n",
       "      <td>Streamers</td>\n",
       "      <td>Four young recruits about to be sent to Vietna...</td>\n",
       "      <td>0.225313</td>\n",
       "      <td>/92HNckJ0Kf9psYXjB87x6amU9MN.jpg</td>\n",
       "      <td>...</td>\n",
       "      <td>0.0</td>\n",
       "      <td>118.0</td>\n",
       "      <td>[]</td>\n",
       "      <td></td>\n",
       "      <td>Streamers</td>\n",
       "      <td>6.8</td>\n",
       "      <td>4.0</td>\n",
       "      <td>[{'id': 10183, 'name': 'independent film'}]</td>\n",
       "      <td>[{'cast_id': 2, 'character': '', 'credit_id': ...</td>\n",
       "      <td>[{'credit_id': '52fe473fc3a368484e0bcb8b', 'de...</td>\n",
       "    </tr>\n",
       "    <tr>\n",
       "      <th>5</th>\n",
       "      <td>False</td>\n",
       "      <td>0</td>\n",
       "      <td>[{'id': 18, 'name': 'Drama'}]</td>\n",
       "      <td>66487</td>\n",
       "      <td>tt0086377</td>\n",
       "      <td>en</td>\n",
       "      <td>Streamers</td>\n",
       "      <td>Four young recruits about to be sent to Vietna...</td>\n",
       "      <td>0.225313</td>\n",
       "      <td>/92HNckJ0Kf9psYXjB87x6amU9MN.jpg</td>\n",
       "      <td>...</td>\n",
       "      <td>0.0</td>\n",
       "      <td>118.0</td>\n",
       "      <td>[]</td>\n",
       "      <td></td>\n",
       "      <td>Streamers</td>\n",
       "      <td>6.8</td>\n",
       "      <td>4.0</td>\n",
       "      <td>[{'id': 10183, 'name': 'independent film'}]</td>\n",
       "      <td>[{'cast_id': 2, 'character': '', 'credit_id': ...</td>\n",
       "      <td>[{'credit_id': '52fe473fc3a368484e0bcb8b', 'de...</td>\n",
       "    </tr>\n",
       "  </tbody>\n",
       "</table>\n",
       "<p>5 rows × 23 columns</p>\n",
       "</div>"
      ],
      "text/plain": [
       "   adult budget                                             genres      id  \\\n",
       "0  False  90000  [{'id': 9648, 'name': 'Mystery'}, {'id': 27, '...   29424   \n",
       "1  False      0  [{'id': 18, 'name': 'Drama'}, {'id': 10749, 'n...   56077   \n",
       "2  False      0  [{'id': 53, 'name': 'Thriller'}, {'id': 10770,...  202637   \n",
       "4  False      0                      [{'id': 18, 'name': 'Drama'}]   66487   \n",
       "5  False      0                      [{'id': 18, 'name': 'Drama'}]   66487   \n",
       "\n",
       "     imdb_id original_language           original_title  \\\n",
       "0  tt0069239                en             Hungry Wives   \n",
       "1  tt0120271                en           Talk of Angels   \n",
       "2  tt0071374                en  A Cry in the Wilderness   \n",
       "4  tt0086377                en                Streamers   \n",
       "5  tt0086377                en                Streamers   \n",
       "\n",
       "                                            overview popularity  \\\n",
       "0  A bored, unhappy suburban housewife gets mixed...   1.633103   \n",
       "1  This is the story of a young Irish woman who c...   0.978989   \n",
       "2  The father of a wilderness family gets bitten ...    2.6e-05   \n",
       "4  Four young recruits about to be sent to Vietna...   0.225313   \n",
       "5  Four young recruits about to be sent to Vietna...   0.225313   \n",
       "\n",
       "                        poster_path  ... revenue runtime  \\\n",
       "0  /3Afgk8B3DwctuxdqDxRxSjwVZ2G.jpg  ...     0.0   104.0   \n",
       "1  /ipDXrPjOLDBlBA4qB6Lo7Gm3jlI.jpg  ...     0.0    96.0   \n",
       "2  /iCBKDnCbKvhIpPhYpochC49fyUX.jpg  ...     0.0    74.0   \n",
       "4  /92HNckJ0Kf9psYXjB87x6amU9MN.jpg  ...     0.0   118.0   \n",
       "5  /92HNckJ0Kf9psYXjB87x6amU9MN.jpg  ...     0.0   118.0   \n",
       "\n",
       "                           spoken_languages                    tagline  \\\n",
       "0  [{'iso_639_1': 'en', 'name': 'English'}]  Every Night is Halloween.   \n",
       "1  [{'iso_639_1': 'en', 'name': 'English'}]                              \n",
       "2  [{'iso_639_1': 'en', 'name': 'English'}]                              \n",
       "4                                        []                              \n",
       "5                                        []                              \n",
       "\n",
       "                     title vote_average vote_count  \\\n",
       "0             Hungry Wives          5.4       12.0   \n",
       "1           Talk of Angels          6.8        4.0   \n",
       "2  A Cry in the Wilderness          0.0        0.0   \n",
       "4                Streamers          6.8        4.0   \n",
       "5                Streamers          6.8        4.0   \n",
       "\n",
       "                                            keywords  \\\n",
       "0  [{'id': 616, 'name': 'witch'}, {'id': 3030, 'n...   \n",
       "1        [{'id': 10183, 'name': 'independent film'}]   \n",
       "2  [{'id': 4776, 'name': 'race against time'}, {'...   \n",
       "4        [{'id': 10183, 'name': 'independent film'}]   \n",
       "5        [{'id': 10183, 'name': 'independent film'}]   \n",
       "\n",
       "                                                cast  \\\n",
       "0  [{'cast_id': 8, 'character': 'Joan Mitchell', ...   \n",
       "1  [{'cast_id': 1, 'character': 'Mary Lavelle', '...   \n",
       "2  [{'cast_id': 4, 'character': 'Sam Hadley', 'cr...   \n",
       "4  [{'cast_id': 2, 'character': '', 'credit_id': ...   \n",
       "5  [{'cast_id': 2, 'character': '', 'credit_id': ...   \n",
       "\n",
       "                                                crew  \n",
       "0  [{'credit_id': '52fe45dec3a368484e0739cb', 'de...  \n",
       "1  [{'credit_id': '52fe48ecc3a36847f8180ae3', 'de...  \n",
       "2  [{'credit_id': '5997ae1ec3a36821c8003205', 'de...  \n",
       "4  [{'credit_id': '52fe473fc3a368484e0bcb8b', 'de...  \n",
       "5  [{'credit_id': '52fe473fc3a368484e0bcb8b', 'de...  \n",
       "\n",
       "[5 rows x 23 columns]"
      ]
     },
     "execution_count": 37,
     "metadata": {},
     "output_type": "execute_result"
    }
   ],
   "source": [
    "# Drop the specified columns\n",
    "column_to_drop = ['belongs_to_collection', 'homepage', 'status', 'video']\n",
    "movies_df = movies_df.drop(column_to_drop, axis=1)\n",
    "\n",
    "# Replace missing values in text columns with 'Unknown'\n",
    "text_columns = ['original_language','tagline']\n",
    "movies_df[text_columns] = movies_df[text_columns].fillna('')\n",
    "\n",
    "# Replace missing value in number column with 0\n",
    "number_columns = ['runtime']\n",
    "movies_df[number_columns] = movies_df[number_columns].fillna(0)\n",
    "\n",
    "# Drop the missing value rows\n",
    "movies_df.dropna(inplace=True)\n",
    "movies_df.head()"
   ]
  },
  {
   "cell_type": "markdown",
   "id": "7fa02cc3-0df9-47bf-bdc0-2645680a1f28",
   "metadata": {},
   "source": [
    "#### 3. 4 Data Transformation\n",
    "In this section, we perform essential data format adjustments to make our dataset more suitable for analysis. These steps include converting date columns, standardizing formats, and ensuring numerical compatibility. Let’s dive into the details of these transformations."
   ]
  },
  {
   "cell_type": "code",
   "execution_count": 39,
   "id": "f9944825-6baf-4e32-ba15-5314193c162a",
   "metadata": {},
   "outputs": [
    {
     "data": {
      "text/plain": [
       "(25001, 4)"
      ]
     },
     "execution_count": 39,
     "metadata": {},
     "output_type": "execute_result"
    }
   ],
   "source": [
    "ratings_df=pd.read_csv('ratings_small.csv')\n",
    "ratings_df=ratings_df.sample(frac=0.25,replace=True,random_state=42)\n",
    "ratings_df.shape"
   ]
  },
  {
   "cell_type": "code",
   "execution_count": 40,
   "id": "54daa945-b9bd-481a-852c-c37fe2ad7d81",
   "metadata": {},
   "outputs": [],
   "source": [
    "# Convert the 'release_date' column to datetime format and extract the year into a new 'year' column\n",
    "# If the conversion fails, errors are coerced to NaT (Not a Timestamp)\n",
    "movies_df['year'] = pd.to_datetime(movies_df['release_date'], errors='coerce').dt.year\n",
    "\n",
    "# Convert the 'year' column to integer type, this will convert NaT to its integer representation\n",
    "movies_df['year'] = movies_df['year'].astype(int)\n",
    "\n",
    "# Convert the 'release_date' column to datetime format again to standardize its format\n",
    "# If the conversion fails, errors are coerced to NaT\n",
    "movies_df['release_date'] = pd.to_datetime(movies_df['release_date'], format=\"%Y-%m-%d\", errors='coerce')\n",
    "\n",
    "# Convert the 'popularity' column to float64 type to ensure numerical operations can be performed\n",
    "movies_df['popularity'] = movies_df['popularity'].astype('float64')\n",
    "\n",
    "# Convert the 'timestamp' column in ratings_df to datetime format using Unix timestamp\n",
    "# The lambda function converts each timestamp to a datetime object\n",
    "ratings_df['timestamp'] = ratings_df['timestamp'].apply(lambda x: datetime.fromtimestamp(x))"
   ]
  },
  {
   "cell_type": "markdown",
   "id": "7a9c5e85-ac3d-4bc0-9a61-012f53477622",
   "metadata": {},
   "source": [
    "We transforming specific columns to make our dataset more managable for analysis and feature engineering. Columns such as `genres`, `keywords`, `cast`, and `crew` contain complex or text-based data that may not be immediately useful in their current form."
   ]
  },
  {
   "cell_type": "markdown",
   "id": "8129871a-01a3-4521-b1d1-d86ea85625bc",
   "metadata": {},
   "source": [
    "1. **List Transformation:** These columns are converted into lists of elements, making it easier to extract essential information.\n",
    "2. **Director Extraction:** From the `crew` column, we specifically extract the director's name for each movie as it can be a significant feature for recommendations.\n",
    "3. **Top Elements:** For columns like `genres` and `keywords`, we limit the data to the top 3 elements if more than 3 elements are present. This helps in reducing dimensionality.\n",
    "4. **Data Cleaning:** We also clean the text data by converting everything to lower case and removing spaces. This ensures uniformity in text-based features.\n",
    "5. **Bag of Words:** Finally, a `bag_of_words` column is created by concatenating relevant features. This will serve as a composite feature for our recommendation engine."
   ]
  },
  {
   "cell_type": "code",
   "execution_count": 43,
   "id": "2fe189a9-99f2-4ec4-ae35-50ab0e81d0ac",
   "metadata": {},
   "outputs": [],
   "source": [
    "# Function to extract values from a column in a DataFrame and extend a target list with these values\n",
    "def extend_list_from_column(df, column_name, target_list, key='name'):\n",
    "    # Replace NaN with empty lists and apply literal_eval\n",
    "    # Then extract values using key and extend the target list\n",
    "    temp_df = df[column_name].fillna('[]').apply(literal_eval).apply(lambda x: [i[key] for i in x] if isinstance(x, list) else [])\n",
    "    for i in temp_df:\n",
    "        if i:\n",
    "            target_list.extend(i)\n",
    "\n",
    "# Function to get the director's name from the 'crew' column\n",
    "def get_director(x):\n",
    "    return next((i['name'] for i in x if i['job'] == 'Director'), np.nan)\n",
    "\n",
    "# Function to get the list of top 3 elements or the entire list, whichever is more\n",
    "def get_list(x):\n",
    "    if isinstance(x, list):\n",
    "        names = [i['name'] for i in x]\n",
    "        return names[:3] if len(names) > 3 else names\n",
    "    return []\n",
    "\n",
    "# Function to clean data: Convert strings to lower case and remove spaces\n",
    "def clean_data(x):\n",
    "    if isinstance(x, list):\n",
    "        return [str.lower(i.replace(\" \", \"\")) for i in x]\n",
    "    else:\n",
    "        if isinstance(x, str):\n",
    "            return str.lower(x.replace(\" \", \"\"))\n",
    "        else:\n",
    "            return ''\n",
    "\n",
    "# Function to create a bag of words from various columns\n",
    "def create_bag_of_words(x):\n",
    "    return ' '.join(x['keywords'] + x['cast'] + [x['director']] + x['genres'])\n",
    "\n",
    "# Initialize empty lists for storing specific types of data\n",
    "spoken_languages_list = []\n",
    "cast_list = []\n",
    "crew_list = []\n",
    "company_list = []\n",
    "country_list = []\n",
    "original_language_list = []\n",
    "\n",
    "# Extend the original_language_list from the 'original_language' column\n",
    "for i in movies_df['original_language']:\n",
    "    original_language_list.extend(i.split(', '))\n",
    "\n",
    "# Use the extend_list_from_column function to populate the initialized lists\n",
    "extend_list_from_column(movies_df, 'spoken_languages', spoken_languages_list)\n",
    "extend_list_from_column(movies_df, 'cast', cast_list, key='character')\n",
    "extend_list_from_column(movies_df, 'crew', crew_list)\n",
    "extend_list_from_column(movies_df, 'production_companies', company_list)\n",
    "extend_list_from_column(movies_df, 'production_countries', country_list)\n",
    "\n",
    "# Fill NaN values and apply literal_eval to specific columns\n",
    "for col in ['crew', 'cast', 'genres', 'keywords', 'production_companies']:\n",
    "    movies_df[col] = movies_df[col].fillna('[]').apply(literal_eval)\n",
    "\n",
    "# Apply the get_director function to extract directors from the 'crew' column\n",
    "movies_df['director'] = movies_df['crew'].apply(get_director)\n",
    "\n",
    "# Apply the get_list function to truncate or keep entire lists in specific columns\n",
    "for col in ['cast', 'genres', 'keywords', 'production_companies']:\n",
    "    movies_df[col] = movies_df[col].apply(get_list)\n",
    "    \n",
    "# Apply the clean_data function to sanitize feature columns\n",
    "features = ['adult', 'cast', 'keywords', 'director', 'genres', 'production_companies']\n",
    "for feature in features:\n",
    "    movies_df[feature] = movies_df[feature].apply(clean_data)\n",
    "    \n",
    "# Create a 'bag_of_words' column by concatenating relevant columns\n",
    "movies_df['bag_of_words'] = movies_df.apply(create_bag_of_words, axis=1)"
   ]
  },
  {
   "cell_type": "markdown",
   "id": "a3149d80-0a19-4164-9a46-49d058a5af4d",
   "metadata": {},
   "source": [
    "### 4. Exploratory Data Analysis (EDA)\n",
    "In this section, we dive into Exploratory Data Analysis (EDA) to better understand our movie dataset. EDA helps us uncover patterns, trends, and insights in the data that can guide our analysis and modeling."
   ]
  },
  {
   "cell_type": "markdown",
   "id": "a0bb3797-a651-45ee-91c1-0911de8356b7",
   "metadata": {},
   "source": [
    "#### 4.1 Distribution of Movie Release Year\n",
    "To get a better understanding of the distribution of movies over the years, we plot a histogram based on the `release_date` column. This plot provides insights into the concentration of movie releases over the years."
   ]
  },
  {
   "cell_type": "code",
   "execution_count": 46,
   "id": "1a775556-3cd6-46d0-93ef-d0a0548b749f",
   "metadata": {},
   "outputs": [
    {
     "name": "stderr",
     "output_type": "stream",
     "text": [
      "C:\\Users\\masoud\\anaconda3\\Lib\\site-packages\\seaborn\\_oldcore.py:1119: FutureWarning: use_inf_as_na option is deprecated and will be removed in a future version. Convert inf values to NaN before operating instead.\n",
      "  with pd.option_context('mode.use_inf_as_na', True):\n"
     ]
    },
    {
     "data": {
      "image/png": "[encoded data removed]",
      "text/plain": [
       "<Figure size 1500x700 with 1 Axes>"
      ]
     },
     "metadata": {},
     "output_type": "display_data"
    }
   ],
   "source": [
    "# 1. Plotting the histogram for movie release years\n",
    "plt.figure(figsize=(15, 7))\n",
    "sns.histplot(data=movies_df, x='release_date', bins=30, color='#fdc100', facecolor='#06837f', kde=True)\n",
    "plt.title('Distribution of Movies by Release Year', fontsize=18)  # Increase title fontsize\n",
    "plt.xlabel('Release Date', fontsize=14)  # Increase xlabel fontsize\n",
    "plt.ylabel('Number of Movies', fontsize=14)  # Increase ylabel fontsize\n",
    "plt.show()"
   ]
  },
  {
   "cell_type": "markdown",
   "id": "5749b15b-7fd3-40af-9059-0b0bbf8ec878",
   "metadata": {},
   "source": [
    "We can see from just one movie in 1874 to nearly 2000 in peak years, the film industry has seen exponential growth, highlighting its enduring appeal. But, the sharp decline in movie releases in 2020, likely reflects the global impact of the COVID-19 pandemic on the industry. By 1985, the industry had matured significantly, with annual releases reaching up to 373, indicating a period of rapid expansion."
   ]
  },
  {
   "cell_type": "markdown",
   "id": "bf5d94a9-1020-49ca-8cea-fe6ceecfa832",
   "metadata": {},
   "source": [
    "#### 4.2 Top Movie Genres\n",
    "In this section, we identify and visualize in our dataset of the top 5 movie genres. We use a bar plot to display top 5 with the most occurrences genres and a pie chart to show their percentage distribution all genres."
   ]
  },
  {
   "cell_type": "code",
   "execution_count": 49,
   "id": "8a15e109-1e3e-4f7c-ba18-6cd0659e4c80",
   "metadata": {},
   "outputs": [
    {
     "data": {
      "image/png": "[encoded data removed]",
      "text/plain": [
       "<Figure size 1400x600 with 2 Axes>"
      ]
     },
     "metadata": {},
     "output_type": "display_data"
    }
   ],
   "source": [
    "# 2. Top 5 Genre of Movies\n",
    "# Flatten genres and count occurrences\n",
    "genres_count = movies_df['genres']\n",
    "genres_count = genres_count.apply(lambda x: ', '.join(x))\n",
    "genres_count = Counter(', '.join(genres_count).split(', '))\n",
    "df_top5 = pd.DataFrame(genres_count.most_common(5), columns=['genre', 'total'])\n",
    "\n",
    "# Create the bar plot\n",
    "fig, axes = plt.subplots(1, 2, figsize=(14, 6))\n",
    "\n",
    "sns.barplot(data=df_top5, x='genre', y='total', ax=axes[0], palette=['#06837f', '#02cecb', '#b4ffff', '#f8e16c', '#fed811'])\n",
    "axes[0].set_title('Top 5 Genres in Movies', fontsize=18, weight=600, color='#333d29')\n",
    "\n",
    "# Create a DataFrame for all genres\n",
    "df_all = pd.DataFrame(list(genres_count.items()), columns=['genre', 'total']).sort_values('total', ascending=False)\n",
    "\n",
    "# Add 'Others' to top 5 DataFrame\n",
    "df_top5.loc[len(df_top5)] = {'genre': 'Others', 'total': df_all[5:].total.sum()}\n",
    "\n",
    "# Create the pie chart\n",
    "wedges, texts, autotexts = axes[1].pie(df_top5['total'], labels=df_top5['genre'], autopct='%.2f%%',\n",
    "                                       textprops={'fontsize': 14}, explode=[0, 0, 0, 0, 0, 0.1],\n",
    "                                       colors=['#06837f', '#02cecb', '#b4ffff', '#f8e16c', '#fed811', '#fdc100'])\n",
    "axes[1].set_title('Percentage Ratio of Movie Genres', fontsize=18, weight=600, color='#333d29')\n",
    "\n",
    "# Style the pie chart labels\n",
    "for autotext in autotexts:\n",
    "    autotext.set_color('#1c2541')\n",
    "    autotext.set_weight('bold')\n",
    "\n",
    "sns.despine(left=True, bottom=True)\n",
    "axes[1].axis('off')\n",
    "\n",
    "plt.show()"
   ]
  },
  {
   "cell_type": "markdown",
   "id": "fbafdcff-3f75-4540-af26-ac0aea8101b0",
   "metadata": {},
   "source": [
    "Total count of movie from this data shown that drama movies are the most common, followed by comedies that bring laughter. Thrillers offer excitement, romance films tell love stories, and action movies provide adventure. The “Others” category covers different genres, giving a wide variety of movie options. This insight highlights the diversity of choices for different preferences in movies.\r\n"
   ]
  },
  {
   "cell_type": "markdown",
   "id": "92af8ff8-6203-468a-9d94-2832df79a5fb",
   "metadata": {},
   "source": [
    "### 5. Model Explorationl"
   ]
  },
  {
   "cell_type": "markdown",
   "id": "59aacab8-2fba-45e4-991c-542d1b20cf44",
   "metadata": {},
   "source": [
    "#### 5.1 Baseline Model"
   ]
  },
  {
   "cell_type": "markdown",
   "id": "b2e376f0-f9cf-4c31-8ccf-4ad7d542231d",
   "metadata": {},
   "source": [
    "In our recommender system journey, we begin by exploring five fundamental baseline models. These models serve as the foundation upon which we build and evaluate more advanced recommendation algorithms. Let’s dive into each of these baseline models:"
   ]
  },
  {
   "cell_type": "markdown",
   "id": "e55c2b4e-50a1-4f08-b178-48f3c36c8bb3",
   "metadata": {},
   "source": [
    "a. **Global Mean Rating :** This model predicts the global average rating for all user-item pairs, providing a simple starting point for recommendations."
   ]
  },
  {
   "cell_type": "markdown",
   "id": "22cd0a4c-acec-4c10-9098-46963e95ce84",
   "metadata": {},
   "source": [
    "b.**User Mean Rating :** Here, we calculate the mean rating given by each user and use it to predict ratings for all items that the user hasn’t interacted with."
   ]
  },
  {
   "cell_type": "markdown",
   "id": "67adf8e3-b6a0-4277-97b4-5fb50e6c227f",
   "metadata": {},
   "source": [
    "c.**Item Mean Rating :** In contrast to the User Mean Rating, this model focuses on the mean rating of each item and uses it to predict ratings for all users. "
   ]
  },
  {
   "cell_type": "markdown",
   "id": "2c3e8694-a6bc-4494-8850-db237f501a10",
   "metadata": {},
   "source": [
    "d.**User-Item Mean Rating :** This model takes a more nuanced approach, predicting a rating for a user-item pair as the average of the user’s mean rating and the item’s mean rating. The formula is :"
   ]
  },
  {
   "cell_type": "markdown",
   "id": "eb840853-bc7b-4762-97b8-c575b491eeb7",
   "metadata": {},
   "source": [
    "$$Prediction = $\\frac{\\text{User Mean Rating} + \\text{Item Mean Rating}}{2}$$\r\n"
   ]
  },
  {
   "cell_type": "markdown",
   "id": "a65efe93-3dca-4705-be2d-a05c1c5ba35e",
   "metadata": {},
   "source": [
    "e.**Weighted Mean Ratings :** The Weighted Mean Ratings model introduces flexibility by employing a weighted average of user mean and item mean ratings. We’ll determine the optimal weight through experimentation. The formula is :"
   ]
  },
  {
   "cell_type": "markdown",
   "id": "807622cb-f8de-4ac4-ac97-d896e7c10fcf",
   "metadata": {},
   "source": [
    "$$\r\n",
    "\\text{Prediction} = \\omega \\times \\text{User Mean Rating} + (1 - \\omega) \\times \\text{Item Mean Rating}\r\n",
    "$$\r\n"
   ]
  },
  {
   "cell_type": "markdown",
   "id": "815477eb-1407-420d-97ed-1a24a15c948b",
   "metadata": {},
   "source": [
    "$$ where  ( 0 \\leq \\omega \\leq 1 ) $$\n",
    "\r\n"
   ]
  },
  {
   "cell_type": "markdown",
   "id": "124f26db-e2e3-4738-a45b-ca8caf9f5a75",
   "metadata": {},
   "source": [
    "To evaluate the baseline models, we’ll split out dataset into Data Train (75%) and Data Test (25%). The training set will be used to teach and build the recommendation model, while the testing set serves as an independent measure to assess the model’s performance. This ensures that our system provides accurate and reliable movie recommendations when used with real-world data."
   ]
  },
  {
   "cell_type": "code",
   "execution_count": 72,
   "id": "0427dc3c-5dd2-41c1-b82e-c8bb501edd83",
   "metadata": {},
   "outputs": [],
   "source": [
    "# Split the data into training and testing sets (75% training, 25% testing)\n",
    "train_df, test_df = train_test_split(ratings_df, test_size=0.25, random_state=42)"
   ]
  },
  {
   "cell_type": "code",
   "execution_count": 74,
   "id": "0c5cdd47-fddc-4a76-bd9b-74252c108894",
   "metadata": {},
   "outputs": [],
   "source": [
    "# Function to calculate RMSE\n",
    "def calculate_rmse(y_true, y_pred):\n",
    "    return sqrt(mean_squared_error(y_true, y_pred))\n",
    "\n",
    "# Function to calculate MSE\n",
    "def calculate_mse(y_true, y_pred):\n",
    "    return mean_squared_error(y_true, y_pred)\n",
    "\n",
    "from sklearn.model_selection import train_test_split\n",
    "\n",
    "# Calculate the global mean rating using the training set\n",
    "global_mean_rating = train_df['rating'].mean()\n",
    "\n",
    "# Predict global mean rating for the test set\n",
    "test_df['global_mean_rating'] = global_mean_rating\n",
    "\n",
    "# Calculate user and item mean ratings using the training set\n",
    "user_mean_ratings = train_df.groupby('userId')['rating'].mean().reset_index()\n",
    "item_mean_ratings = train_df.groupby('movieId')['rating'].mean().reset_index()\n",
    "\n",
    "# Merge the mean ratings with the test set\n",
    "test_df = pd.merge(test_df, user_mean_ratings, on='userId', how='left').rename(columns={'rating_y': 'user_mean_rating', 'rating_x': 'rating'})\n",
    "test_df = pd.merge(test_df, item_mean_ratings, on='movieId', how='left').rename(columns={'rating_y': 'item_mean_rating', 'rating_x': 'rating'})\n",
    "\n",
    "# Fill NAs with global mean rating\n",
    "test_df['user_mean_rating'].fillna(global_mean_rating, inplace=True)\n",
    "test_df['item_mean_rating'].fillna(global_mean_rating, inplace=True)\n",
    "\n",
    "# Calculate User-Item Mean Rating\n",
    "test_df['user_item_mean_rating'] = (test_df['user_mean_rating'] + test_df['item_mean_rating']) / 2"
   ]
  },
  {
   "cell_type": "code",
   "execution_count": 76,
   "id": "a8523b75-4a09-497d-acc4-c6f6bd208ed1",
   "metadata": {},
   "outputs": [],
   "source": [
    "# Calculate Weighted Mean Ratings\n",
    "# Initialize variables to store the best RMSE and corresponding weight\n",
    "best_rmse = float('inf')\n",
    "best_w = 0\n",
    "\n",
    "# Loop through possible weights with a step of 0.1\n",
    "for w in [i * 0.1 for i in range(11)]:\n",
    "    test_df['weighted_mean_rating_tmp'] = w * test_df['user_mean_rating'] + (1 - w) * test_df['item_mean_rating']\n",
    "    rmse = calculate_rmse(test_df['rating'], test_df['weighted_mean_rating_tmp'])\n",
    "    \n",
    "    if rmse < best_rmse:\n",
    "        best_rmse = rmse\n",
    "        best_w = w\n",
    "\n",
    "# Use the best weight to calculate the final weighted mean ratings\n",
    "test_df['weighted_mean_rating'] = best_w * test_df['user_mean_rating'] + (1 - best_w) * test_df['item_mean_rating']\n",
    "        "
   ]
  },
  {
   "cell_type": "code",
   "execution_count": null,
   "id": "7b8d76ab-b600-4dbc-ab6d-fd6b642479f5",
   "metadata": {},
   "outputs": [],
   "source": [
    "# Constant Model with rating 2.5 for all user-item pairs\n",
    "test_df['constant_rating'] = 2.5\n",
    "\n",
    "# Calculate user mean ratings and number of ratings per user\n",
    "user_stats = train_df.groupby('userId')['rating'].agg(['mean', 'count']).reset_index()\n",
    "\n",
    "# Damping factor (you can adjust this)\n",
    "damping_factor = 0.2\n",
    "\n",
    "# Predict damped user-mean rating for the test set\n",
    "test_df = test_df.merge(user_stats, on='userId', how='left')\n",
    "test_df['damped_user_mean_rating'] = ((1 - damping_factor) * test_df['mean']) + (damping_factor * global_mean_rating)\n",
    "\n",
    "# Calculate RMSE for the damped user-mean model\n",
    "rmse_damped_user_mean = calculate_rmse(test_df['rating'], test_df['damped_user_mean_rating'])\n",
    "\n",
    "# Calculate RMSE for global mean, user mean, and item mean models\n",
    "rmse_global_mean = calculate_rmse(test_df['rating'], test_df['global_mean_rating'])\n",
    "rmse_user_mean = calculate_rmse(test_df['rating'], test_df['user_mean_rating'])\n",
    "rmse_item_mean = calculate_rmse(test_df['rating'], test_df['item_mean_rating'])\n",
    "rmse_user_item_mean = calculate_rmse(test_df['rating'], test_df['user_item_mean_rating'])\n",
    "rmse_weighted_mean = calculate_rmse(test_df['rating'], test_df['weighted_mean_rating'])\n",
    "rmse_constant = calculate_rmse(test_df['rating'], test_df['constant_rating'])\n",
    "rmse_damped_user_mean = calculate_rmse(test_df['rating'], test_df['damped_user_mean_rating'])\n",
    "\n",
    "# Display the RMSE and MSE scores for all models\n",
    "print(f\"RMSE for Global Mean Rating Model: {rmse_global_mean:.2f}\")\n",
    "print(f\"RMSE for User Mean Rating Model: {rmse_user_mean:.2f}\")\n",
    "print(f\"RMSE for Item Mean Rating Model: {rmse_item_mean:.2f}\")\n",
    "print(f\"RMSE for User-Item Mean Rating Model: {rmse_user_item_mean:.2f}\")\n",
    "print(f\"RMSE for Weighted Mean Rating Model: {best_rmse:.2f}, with setting the best weight is {best_w:.2f}\")\n",
    "print(f\"RMSE for Constant Model: {rmse_constant:.2f}\")\n",
    "print(f\"RMSE for Damped User-Mean Rating Model: {rmse_damped_user_mean:.2f}\")"
   ]
  },
  {
   "cell_type": "markdown",
   "id": "d114bd30-1e46-4477-bb02-0e18ff101116",
   "metadata": {},
   "source": [
    "### Understanding RMSE:"
   ]
  },
  {
   "cell_type": "markdown",
   "id": "f8f076c8-e449-44bd-b6ca-e42112bccfd3",
   "metadata": {},
   "source": [
    "In our evaluation process, we’ll rely on Root Mean Squared Error (RMSE) as a key metric. RMSE quantifies how closely our model’s predictions align with actual ratings. A lower RMSE indicates a better-performing model."
   ]
  },
  {
   "cell_type": "markdown",
   "id": "e112ffe4-bbb2-4c4a-8191-54de0e13113f",
   "metadata": {},
   "source": [
    "- **RMSE for Global Mean Rating Model**: 1.06\r\n",
    "- **RMSE for User Mean Rating Model**: 0.96\r\n",
    "- **RMSE for Item Mean Rating Model**: 1.00\r\n",
    "- **RMSE for User-Item Mean Rating Model**: 0.92\r\n",
    "- **RMSE for Weighted Mean Rating Model**: 0.92 (best weight is 0.60)\r\n",
    "- **RMSE for Constant Model**: 1.49\r\n",
    "- **RMSE for Damped User-Mean Rating Model**: 0.96\r\n",
    ": 0.96"
   ]
  },
  {
   "cell_type": "markdown",
   "id": "7859127a-2e1d-4b57-b05c-29c4cc5b8605",
   "metadata": {},
   "source": [
    "In simple terms, these baseline models provide essential insights into the recommendation process. Notably, the User-Item Mean Rating Model and the Weighted Mean Rating Model perform exceptionally well with an RMSE of 0.92. This indicates that combining user and item mean ratings results in more accurate predictions.\r\n",
    "\r\n",
    "It’s important to remember that these baseline models serve as our starting point. More advanced machine learning models, such as collaborative filtering or hybrid models, offer personalized recommendations based on individual user behavior. These models aim to achieve lower RMSE scores, signifying superior recommendation accuracy.\r\n",
    "\r\n",
    "By exploring these baseline models, we gain valuable insights and establish a performance benchmark for our recommendation system.\r\n"
   ]
  },
  {
   "cell_type": "markdown",
   "id": "4d43fe6a-f431-4c8b-99c1-6ea93754d8b1",
   "metadata": {},
   "source": [
    "#### 5.2 Collaborative Filtering"
   ]
  },
  {
   "cell_type": "markdown",
   "id": "9c60466c-b6bd-4248-8925-ee84bb8a11ab",
   "metadata": {},
   "source": [
    "In this section, we will construct a collaborative filtering recommender system using the Surprise library. Our goal is to compare the performance of various collaborative filtering algorithms to identify the one that delivers the highest prediction accuracy, as quantified by the Root Mean Square Error (RMSE). These algorithms are SVD (Singular Value Decomposition), KNNWithZScore (K-Nearest Neighbors with Z-Score normalization), and SVDpp (SVD with Power Iteration).\r\n"
   ]
  },
  {
   "cell_type": "markdown",
   "id": "73ff5e64-7bc9-4250-b9b1-c1cffb9a550d",
   "metadata": {},
   "source": [
    "#### Algorithms Exploration and Fine-Tuning :"
   ]
  },
  {
   "cell_type": "markdown",
   "id": "de4e3bad-bb75-48e6-a6ee-06427eb81d0f",
   "metadata": {},
   "source": [
    "\r\n",
    "Before we dive into the results, it’s crucial to understand that each algorithm has its set of parameters that can significantly impact its performance. We’ve fine-tuned these algorithms to extract their full potential:\r\n",
    "\r\n",
    "- **SVD**: We experimented with factors like the number of latent factors, epochs, learning rate, and regularization to optimize its performance.\r\n",
    "- **KNNWithZScore**: This algorithm involves parameters like the number of neighbors, minimum neighbors, and similarity options are optimized.\r\n",
    "- **SVDpp**: Similar to SVD, but includes more factors and additional parameters like power iteration.\r\n",
    "\r\n",
    "These three collaborative filtering algorithms will be optimized using the GridSearchCV method to fine-tune their hyperparameters through 3-fold cross-validation is applied to train the model. The objective is to identify the best-performing model by evaluating and comparing their Root Mean Square Error (RMSE) scores.\r\n"
   ]
  },
  {
   "cell_type": "code",
   "execution_count": null,
   "id": "df027f17-9144-4f44-92aa-984bf9700067",
   "metadata": {},
   "outputs": [],
   "source": [
    "from surprise import Reader, Dataset, SVD, KNNWithZScore, SVDpp\n",
    "from surprise.model_selection import GridSearchCV\n",
    "import matplotlib.pyplot as plt\n",
    "\n",
    "# Create a Reader object specifying the rating scale\n",
    "reader = Reader(rating_scale=(1, 5))\n",
    "\n",
    "# Load the data into the Surprise Dataset\n",
    "train_data = Dataset.load_from_df(train_df[['userId', 'movieId', 'rating']], reader)\n",
    "test_data = Dataset.load_from_df(test_df[['userId', 'movieId', 'rating']], reader)\n",
    "\n",
    "# Build the trainset and testset\n",
    "trainset = train_data.build_full_trainset()\n",
    "testset = test_data.build_full_trainset().build_testset()"
   ]
  },
  {
   "cell_type": "code",
   "execution_count": null,
   "id": "2f148d0b-7e92-47f2-b0f7-1770387aefbe",
   "metadata": {},
   "outputs": [],
   "source": [
    "# List of algorithms\n",
    "algorithms = [SVD, KNNWithZScore, SVDpp]\n",
    "\n",
    "# Parameters for Grid Search\n",
    "param_grid = {\n",
    "    SVD: {\n",
    "        'n_factors': [125, 150, 175],\n",
    "        'n_epochs': [25, 30, 35],\n",
    "        'lr_all': [0.008, 0.01, 0.012],\n",
    "        'reg_all': [0.15, 0.2, 0.25]\n",
    "    },\n",
    "    KNNWithZScore: {\n",
    "        'k': [35, 40, 45],\n",
    "        'min_k': [1, 3, 5, 7],\n",
    "        'sim_options': {\n",
    "            'name': ['msd', 'cosine', 'pearson'],\n",
    "            'user_based': [True, False]\n",
    "        }\n",
    "    },\n",
    "    SVDpp: {\n",
    "        'n_factors': [20, 50, 100, 140, 150, 160],\n",
    "        'n_epochs': [20, 25],\n",
    "        'lr_all': [0.001, 0.002, 0.005, 0.009, 0.01, 0.011],\n",
    "        'reg_all': [0.18, 0.2, 0.22, 0.4, 0.6, 0.8]\n",
    "    }\n",
    "}\n",
    "\n",
    "best_models = {}\n",
    "best_params = {}\n",
    "best_rmse_scores = {}\n",
    "\n",
    "# Perform GridSearchCV for each algorithm\n",
    "for algo in algorithms:\n",
    "    gs = GridSearchCV(algo, param_grid[algo], measures=['rmse'], cv=3,n_jobs=-1, joblib_verbose=100)\n",
    "    gs.fit(train_data)\n",
    "    \n",
    "    # Get the best model, best parameters, and best RMSE score\n",
    "    best_models[algo.__name__] = gs.best_estimator['rmse']\n",
    "    best_params[algo.__name__] = gs.best_params['rmse']\n",
    "    best_rmse_scores[algo.__name__] = gs.best_score['rmse']"
   ]
  },
  {
   "cell_type": "code",
   "execution_count": null,
   "id": "c776dc52-7ba8-4d41-a8b3-68253e648587",
   "metadata": {},
   "outputs": [],
   "source": [
    "# Visualize the RMSE scores\n",
    "plt.figure(figsize=(10, 6))\n",
    "plt.bar(best_rmse_scores.keys(), best_rmse_scores.values(), color='blue')\n",
    "plt.xlabel('Algorithms')\n",
    "plt.ylabel('Best RMSE Score')\n",
    "plt.title('Best RMSE Scores by Algorithm')\n",
    "plt.show()\n",
    "\n",
    "# Print the best model, best parameters, and best RMSE score\n",
    "for algo_name, model in best_models.items():\n",
    "    print(f\"Best Model for {algo_name}:\\n\", model)\n",
    "    print(f\"Best Parameters for {algo_name}:\\n\", best_params[algo_name])\n",
    "    print(f\"Best RMSE score for {algo_name}:\\n\", best_rmse_scores[algo_name])"
   ]
  },
  {
   "cell_type": "code",
   "execution_count": null,
   "id": "e51f8682-d2be-4ff4-9a3a-87bd2f386a01",
   "metadata": {},
   "outputs": [],
   "source": [
    "# Determine the best algorithm based on the lowest RMSE score\n",
    "best_algo = min(best_rmse_scores, key=best_rmse_scores.get)\n",
    "\n",
    "# Print the best algorithm, best parameters, and best RMSE score\n",
    "print(f\"Best Algorithm: {best_algo}\")\n",
    "print(f\"Best Parameters: {best_params[best_algo]}\")\n",
    "print(f\"Best RMSE score: {best_rmse_scores[best_algo]}\")"
   ]
  },
  {
   "cell_type": "markdown",
   "id": "3cc3cdb2-95c0-43df-a191-961eb63f666a",
   "metadata": {},
   "source": [
    "#### Output :"
   ]
  },
  {
   "cell_type": "markdown",
   "id": "cf709758-8297-496f-a36a-830adbc8db27",
   "metadata": {},
   "source": [
    "**Best Algorithm**: SVD  \r\n",
    "**Best Parameters**: `{'n_factors': 150, 'n_epochs': 35, 'lr_all': 0.012, 'reg_all': 0.15}`  \r\n",
    "**Best RMSE score on Data Train**: 0.8970635747677034\r\n"
   ]
  },
  {
   "cell_type": "markdown",
   "id": "799192ee-bf61-4794-9919-abf648b0fb72",
   "metadata": {},
   "source": [
    "Our quest for the best-performing model is grounded in meticulous comparison and evaluation. We employ various collaborative filtering algorithms, each with its unique strengths.\r\n",
    "\r\n",
    "Upon running the code, we obtained the following RMSE scores for each algorithm:\r\n",
    "\r\n",
    "- **SVD**: RMSE score of `0.897`\r\n",
    "- **KNNWithZScore**: RMSE score of `0.929`\r\n",
    "- **SVDpp**: RMSE score of `0.898`\r\n",
    "\r\n",
    "Remarkably, the SVD algorithm stands out with the lowest RMSE score of 0.897, indicating its exceptional accuracy. Its optimal hyperparameters, the secret to its success, are as follows:\r\n"
   ]
  },
  {
   "cell_type": "markdown",
   "id": "7d93542d-f6d3-4bf9-b188-da4ea43d003e",
   "metadata": {},
   "source": [
    "- `n_factors`: 150\r\n",
    "- `n_epochs`: 35\r\n",
    "- `lr_all`: 0.012\r\n",
    "- `reg_all`: 0.15\r\n",
    "\r\n",
    "Why is SVD the Best? SVD (Singular Value Decomposition) is a matrix factorization technique that decomposes the user-item interaction matrix into multiple matrices, capturing latent factors. These latent factors provide a condensed, yet effective, representation of the original data, allowing SVD to make more accurate predictions. In your case, SVD has been further fine-tuned with optimal hyperparameters, leading to the best RMSE score.\r\n",
    "\r\n",
    "Next, we assess and refine our movie recommender system. Our aim is to find the best model for making movie recommendations. We save this top-performing model, train it on our train dataset, and use it to predict movie ratings on our test dataset. We then evaluate the model’s accuracy using metrics like RMSE (Root Mean Square Error). These metrics help us understand how well our system performs.\r\n"
   ]
  },
  {
   "cell_type": "code",
   "execution_count": null,
   "id": "7ec73e9f-6792-4ad8-a17d-8243021d05f4",
   "metadata": {},
   "outputs": [],
   "source": [
    "# Predict ratings for the testset\n",
    "best_algo_name = min(best_rmse_scores, key=best_rmse_scores.get)\n",
    "best_algo_model = best_models[best_algo_name]\n",
    "\n",
    "# Save the best model using pickle\n",
    "with open('best_model.pkl', 'wb') as f:\n",
    "    pickle.dump(best_algo_model, f)\n",
    "\n",
    "print(\"Best model saved to 'best_model.pkl'\")\n",
    "\n",
    "# Train the best algorithm on the entire training set\n",
    "best_algo_model.fit(trainset)\n",
    "    \n",
    "predictions = best_algo_model.test(testset)\n",
    "\n",
    "# Calculate RMSE for the predictions\n",
    "rmse_score = accuracy.rmse(predictions)\n",
    "\n",
    "# Calculate other accuracy measures\n",
    "mae_score = accuracy.mae(predictions)\n",
    "fcp_score = accuracy.fcp(predictions)\n",
    "\n",
    "print(f\"Evaluation Metrics:\")\n",
    "print(f\"RMSE score: {rmse_score}\")\n",
    "print(f\"MAE score: {mae_score}\")\n",
    "print(f\"FCP score: {fcp_score}\")\n",
    "\n",
    "# Save the predictions to a DataFrame\n",
    "predictions_df = pd.DataFrame(predictions)\n",
    "predictions_df = predictions_df.rename(columns={'uid': 'userId', 'iid': 'movieId', 'r_ui': 'actual', 'est': 'predicted'})\n",
    "predictions_df['error'] = np.abs(predictions_df['actual'] - predictions_df['predicted'])\n",
    "\n",
    "# Save DataFrame to CSV file\n",
    "predictions_df.to_csv('predictions.csv', index=False)"
   ]
  },
  {
   "cell_type": "markdown",
   "id": "784167c4-57f1-4ce2-817b-5d9dfb95a951",
   "metadata": {},
   "source": [
    "#### Ouput : "
   ]
  },
  {
   "cell_type": "markdown",
   "id": "4e17feef-f14f-49a3-890c-8b7c628445a0",
   "metadata": {},
   "source": [
    "**Evaluation Metrics:**\n",
    "\n",
    "RMSE score on Data Test: 0.8848337145787749"
   ]
  },
  {
   "cell_type": "markdown",
   "id": "cc633b5a-d299-4e05-8ec3-94bd8bcb321c",
   "metadata": {},
   "source": [
    "The trained machine learning model achieved an RMSE score of 0.897 on the training data and improved slightly to 0.8848 when evaluated on the test data. This slight improvement in the test data suggests that the model is robust and generalizes well to unseen data, which is a positive sign of a good model.\r\n",
    "\r\n",
    "Moreover, these scores are notably better than the baseline models. The User-Item Mean Rating Model and the Weighted Mean Rating Model both achieved an RMSE of 0.92. Given that the machine learning model outperforms these simpler baseline models, it confirms the efficacy of using a more complex algorithm for this recommendation system.\r\n",
    "\r\n",
    "In summary, the machine learning model not only performs well on the training data but also shows a strong capability to generalize to new, unseen data. This makes it a suitable candidate for deployment in a real-world recommendation system.\r\n"
   ]
  },
  {
   "cell_type": "markdown",
   "id": "80d37382-1a17-4601-8da7-490317e7b493",
   "metadata": {},
   "source": [
    "#### 5.3 Weighted Ratings\r\n",
    "\r\n",
    "In this section, we calculate a weighted rating for each movie to improve our movie recommendation system. The goal is to suggest high-quality and popular movies.\r\n",
    "\r\n",
    "We’ve strategized in 5 steps:\r\n",
    "\r\n",
    "#### A. Data Preparation\r\n",
    "We start by filtering out movies with missing values in `vote_average` or `vote_count`.\r\n",
    "\r\n",
    "#### B. Rating Metrics\r\n",
    "To calculate our weighted ratings, we’re bringing in some metrics.\r\n",
    "\r\n",
    "- \\( R \\): Average rating for the movie\r\n",
    "- \\( v \\): Number of votes for the movie\r\n",
    "- \\( m \\): Minimum votes required (90th percentile)\r\n",
    "- \\( C \\): The mean vote average across all movies\r\n",
    "\r\n",
    "#### C. Weighted Rating Formula\r\n",
    "We’ll apply the IMDB formula to calculate a weighted rating for each movie. This formula takes into account the average rating (\\( R \\)), the overall average (\\( C \\)), the number of votes (\\( v \\)), and a minimum vote threshold (\\( m \\)):\r\n"
   ]
  },
  {
   "cell_type": "markdown",
   "id": "2f3465a3-aa9c-4a26-8f0b-542255b22b5b",
   "metadata": {},
   "source": [
    "$$  \\text{Weighted Rating} = \\frac{R \\times v + C \\times m}{v + m} $$\r\n",
    "\r\n",
    "#### D. Feature Scaling\r\n",
    "We’ll normalize `popularity` and `weighted_average` using MinMax scaling.\r\n",
    "\r\n",
    "#### E. Score Calculation\r\n",
    "This is where the magic happens. Each movie gets a score, a mix of various factors: 40% `weighted_average`, 40% `popularity`, 5% `time_decay_factor`, and 15% `normalized_revenue`.\r\n",
    "\r\n",
    "#### D. Rank and Display\r\n",
    "We rank movies based on their scores in descending order to provide a list of top-rated and popular movies.\r\n"
   ]
  },
  {
   "cell_type": "code",
   "execution_count": null,
   "id": "a3cd6de7-a24b-445b-a6dd-56e6b7e8f9fd",
   "metadata": {},
   "outputs": [],
   "source": [
    "# Assuming movies_df contains columns: 'vote_average', 'vote_count', 'popularity', 'year', 'revenue'\n",
    "\n",
    "# Filter out movies with missing vote_average or vote_count\n",
    "movies_df = movies_df[(movies_df['vote_average'].notnull()) | (movies_df['vote_count'].notnull())]\n",
    "\n",
    "# Calculate R as the vote average for each movie\n",
    "R = movies_df['vote_average']\n",
    "\n",
    "# Calculate v as the vote count for each movie\n",
    "v = movies_df['vote_count']\n",
    "\n",
    "# Calculate m as the 90th percentile of vote count across all movies\n",
    "m = movies_df['vote_count'].quantile(0.9)\n",
    "\n",
    "# Calculate C as the mean vote average across all movies\n",
    "C = movies_df['vote_average'].mean()\n",
    "\n",
    "# Calculate the weighted average for each movie using the IMDB formula\n",
    "# This formula helps to balance the average rating (R) with the overall average (C)\n",
    "# It also considers the number of votes (v) and a minimum vote threshold (m)\n",
    "movies_df['weighted_average'] = (R * v + C * m) / (v + m)\n",
    "\n",
    "# Define a time decay factor (you can adjust this factor as needed)\n",
    "# current_year = datetime.datetime.now().year\n",
    "current_year = 2020 #lastest year movie release on the data\n",
    "movies_df['time_decay_factor'] = 1 / (current_year - movies_df['year'] + 1)\n",
    "\n",
    "# Normalize revenue between 0 and 1 (you may need to handle missing or zero revenue values)\n",
    "max_revenue = movies_df['revenue'].max()\n",
    "min_revenue = movies_df['revenue'].min()\n",
    "movies_df['normalized_revenue'] = (movies_df['revenue'] - min_revenue) / (max_revenue - min_revenue)\n",
    "\n",
    "# Initialize the MinMaxScaler\n",
    "scaler = MinMaxScaler()\n",
    "\n",
    "# Fit and transform the 'popularity', 'weighted_average', 'time_decay_factor', and 'normalized_revenue' columns\n",
    "scaled = scaler.fit_transform(\n",
    "    movies_df[['popularity', 'weighted_average', 'time_decay_factor', 'normalized_revenue']]\n",
    ")\n",
    "\n",
    "# Create a DataFrame from the scaled data\n",
    "weighted_df = pd.DataFrame(\n",
    "    scaled,\n",
    "    columns=['popularity', 'weighted_average', 'time_decay_factor', 'normalized_revenue']\n",
    ")\n",
    "\n",
    "# Set the index of the new DataFrame to match the 'original_title' of the movies\n",
    "weighted_df.index = movies_df['id']\n",
    "\n",
    "# Calculate the 'score' based on a weighted combination of factors\n",
    "# Adjust the weights as needed (e.g., 40% weighted_average, 40% popularity, 5% time_decay_factor, 15% normalized_revenue)\n",
    "weighted_df['score'] = (\n",
    "    weighted_df['weighted_average'] * 0.4 +\n",
    "    weighted_df['popularity'] * 0.4 +\n",
    "    weighted_df['time_decay_factor'] * 0.05 +\n",
    "    weighted_df['normalized_revenue'] * 0.15\n",
    ")\n",
    "\n",
    "# Sort the DataFrame based on the 'score' column in descending order.\n",
    "# This will bring movies with the highest blended score to the top.\n",
    "weighted_df_sorted = weighted_df.sort_values(by='score', ascending=False)\n",
    "\n",
    "# Display the top 10 movies with the highest scores.\n",
    "# These are the movies that are well-rated, popular, possibly more recent, and have good revenue.\n",
    "top_10_movies = weighted_df_sorted.head(10)\n",
    "\n",
    "# Optionally, you can join this top_10_movies DataFrame with the original movies_df to get more movie details.\n",
    "result_df = pd.merge(top_10_movies, movies_df[['id','original_title', 'year', 'revenue']], on='id', how='left')\n",
    "\n",
    "# Display the result DataFrame\n",
    "result_df[['original_title', 'year', 'revenue', 'score']]"
   ]
  },
  {
   "cell_type": "markdown",
   "id": "7b6ad4df-0698-4a0c-a836-d0034168de8c",
   "metadata": {},
   "source": [
    "#### Output : "
   ]
  },
  {
   "cell_type": "markdown",
   "id": "0d39bd33-8b4b-4632-987b-78a6e7cd72e3",
   "metadata": {},
   "source": [
    "After all the calculations, we’ll have a list of top-rated and popular movies, ranked by their scores in descending order. This is where we unveil our top recommendations.\r\n",
    "\r\n",
    "We’re also considering a time decay factor to give newer movies a little extra boost, and we’re normalizing revenue to ensure it doesn’t dominate the scores.\r\n",
    "\r\n",
    "|   | original_title                    | year | revenue      | score   |\r\n",
    "|---|-----------------------------------|------|--------------|---------|\r\n",
    "| 0 | Minions                           | 2015 | 1.156731e+09 | 0.699055|\r\n",
    "| 1 | Avatar                            | 2009 | 2.787965e+09 | 0.584354|\r\n",
    "| 2 | Wonder Woman                      | 2017 | 8.205804e+08 | 0.564407|\r\n",
    "| 3 | Beauty and the Beast              | 2017 | 1.262886e+09 | 0.551252|\r\n",
    "| 4 | Big Hero 6                        | 2014 | 6.521054e+08 | 0.540299|\r\n",
    "| 5 | The Dark Knight                   | 2008 | 1.004558e+09 | 0.532660|\r\n",
    "| 6 | Guardians of the Galaxy Vol. 2    | 2017 | 8.634161e+08 | 0.518944|\r\n",
    "| 7 | Deadpool                          | 2016 | 7.783113e+08 | 0.500611|\r\n",
    "| 8 | Pulp Fiction                      | 1994 | 2.193288e+08 | 0.499935|\r\n",
    "| 9 | Gone Girl                         | 2014 | 3.693304e+08 | 0.498902|\r\n",
    "\r\n",
    "*Top 10 Movies with highest score*\r\n"
   ]
  },
  {
   "cell_type": "markdown",
   "id": "8a9b1aba-0b10-4ff6-aa53-94b374d410e8",
   "metadata": {},
   "source": [
    "#### 5.4 Content-Based Filtering\r\n",
    "\r\n",
    "Our journey into movie recommendation continues with a technique known as content-based filtering. It’s like having a movie buff friend who suggests films based on your unique taste.\r\n",
    "\r\n",
    "Content-based filtering, powered by Cosine Similarity, is all about analyzing the content of movies to find similarities. We’re talking keywords, genres, cast, and director — all those details that make a movie what it is. The model crunches these attributes to measure how alike two movies are. If they’re a close match, they make the recommendation cut.\r\n",
    "\r\n",
    "The model then sorts these calculated scores and recommends the top 10 movies most similar to the user’s chosen film. The underlying idea is that if a user enjoys a particular movie, they are likely to appreciate similar ones as well.\r\n"
   ]
  },
  {
   "cell_type": "code",
   "execution_count": null,
   "id": "9062d424-6064-430d-bb94-a7ee476b5839",
   "metadata": {},
   "outputs": [],
   "source": [
    "# Function that takes in movie title as input and outputs most similar movies\n",
    "def get_recommendations(title, cosine_sim):\n",
    "    # Get the index of the movie that matches the title\n",
    "    idx = indices[title]\n",
    "\n",
    "    # Get the pairwsie similarity scores of all movies with that movie\n",
    "    sim_scores = list(enumerate(cosine_sim[idx]))\n",
    "\n",
    "    # Sort the movies based on the similarity scores\n",
    "    sim_scores = sorted(sim_scores, key=lambda x: x[1], reverse=True)\n",
    "\n",
    "    # Get the scores of the 10 most similar movies\n",
    "    sim_scores = sim_scores[1:11]\n",
    "\n",
    "    # Get the movie indices\n",
    "    movie_indices = [i[0] for i in sim_scores]\n",
    "\n",
    "    # Return the top 10 most similar movies\n",
    "    return movies_df['title'].iloc[movie_indices]\n",
    "\n",
    "count = CountVectorizer(stop_words='english')\n",
    "count_matrix = count.fit_transform(movies_df['bag_of_words'])\n",
    "cosine_sim2 = cosine_similarity(count_matrix, count_matrix)\n",
    "movies_df = movies_df.reset_index()\n",
    "indices = pd.Series(movies_df.index, index=movies_df['title'])"
   ]
  },
  {
   "cell_type": "markdown",
   "id": "7f9964cb-60b6-42a0-a07b-b33ecbb8631d",
   "metadata": {},
   "source": [
    "#### A. Recommendation Movies “The Dark Knight Rises”"
   ]
  },
  {
   "cell_type": "markdown",
   "id": "07cb252f-cecf-42b4-9915-acb22c48a0ac",
   "metadata": {},
   "source": [
    "```python\n",
    "get_recommendations('The Dark Knight Rises', cosine_sim2)\n",
    "\n",
    "12476    The Dark Knight\n",
    "10110    Batman Begins\n",
    " 9214    Shiner\n",
    " 9775    Amongst Friends\n",
    " 7679    Mitchell\n",
    "  514    Romeo Is Bleeding\n",
    "11348    The Prestige\n",
    "23716    Quicksand\n",
    "24641    Deadfall\n",
    "39964    Sara\n",
    "Name: title, dtype: object\n"
   ]
  },
  {
   "cell_type": "markdown",
   "id": "abc77345-0419-41c4-9390-ffed33f3855f",
   "metadata": {},
   "source": [
    "Let’s say you’re a fan of the caped crusader and want recommendations for “The Dark Knight Rises.” The model serves up a mix of suggestions. Of course, you’ll find other Batman flicks like “The Dark Knight” and “Batman Begins.” But it goes beyond that, recognizing Christopher Nolan’s directorial style with “The Prestige.” Then, it throws in\r\n"
   ]
  },
  {
   "cell_type": "markdown",
   "id": "23760d54-1dec-47b5-8d3b-4a3edfe5361e",
   "metadata": {},
   "source": [
    "#### B. Recommendation Movies “The Godfather”"
   ]
  },
  {
   "cell_type": "markdown",
   "id": "a273850e-876a-4a20-83df-14d4d3206007",
   "metadata": {},
   "source": [
    "```python\r\n",
    "get_recommendations('The Godfather', cosine_sim2)\r\n",
    "\r\n",
    " 1899    The Godfather: Part III\r\n",
    " 1170    The Godfather: Part II\r\n",
    "15423    The Rain People\r\n",
    "18688    Last Exit\r\n",
    "33762    Rege\r\n",
    "34997    Manuscripts Don't Burn\r\n",
    "34998    Manuscripts Don't Burn\r\n",
    " 7908    The Night of the Following Day\r\n",
    "18021    The Son of No One\r\n",
    "28192    In the Name of the Law\r\n",
    "Name: title, dtype: object\r\n"
   ]
  },
  {
   "cell_type": "markdown",
   "id": "ba8f5ade-1f82-42a0-8b19-af45b4ddc1a7",
   "metadata": {},
   "source": [
    "Now, picture yourself in the world of the Corleone family. When you ask for recommendations for “The Godfather,” the model apply the sequels like “The Godfather: Part III” and “The Godfather: Part II.” Why stop there? It suggests “The Rain People,” another Coppola gem. And it doesn’t shy away from unconventional picks like “Manuscripts Don’t Burn” or “Rege,” highlighting its knack for considering various movie elements.s”\r\n"
   ]
  },
  {
   "cell_type": "markdown",
   "id": "995f7cee-2531-4457-b6d9-ed258055835e",
   "metadata": {},
   "source": [
    "#### C. Recommendation Movies “Star Wars”"
   ]
  },
  {
   "cell_type": "markdown",
   "id": "8e6b1ec4-8095-4c78-8281-4d9dc2212234",
   "metadata": {},
   "source": [
    "```python\r\n",
    "get_recommendations('Star Wars', cosine_sim2)\r\n",
    "\r\n",
    " 1146    The Empire Strikes Back\r\n",
    " 1159    Return of the Jedi\r\n",
    "22533    Behind Enemy Lines\r\n",
    "  674    Solo\r\n",
    " 2496    Star Wars: Episode I - The Phantom Menace\r\n",
    " 5229    Star Wars: Episode II - Attack of the Clones\r\n",
    " 7889    The Last Starfighter\r\n",
    "10057    Star Wars: Episode III - Revenge of the Sith\r\n",
    "21784    Ender's Game\r\n",
    "26319    Star Wars: The Force Awakens\r\n",
    "Name: title, dtype: object\r\n"
   ]
  },
  {
   "cell_type": "markdown",
   "id": "45984b8c-b04e-4f82-a2f3-8c874f0f9bb1",
   "metadata": {},
   "source": [
    "Time for a galactic adventure! If you’re keen on “Star Wars,” the model knows what’s up. You’ll get the classics like “The Empire Strikes Back” and “Return of the Jedi.” But it also slips in films like “Behind Enemy Lines” and “Ender’s Game,” linked by themes or genres. It’s a balanced mix of the familiar and the intriguing.\r\n",
    "\r\n",
    "#### 5.5 Hybrid Based Recommendation\r\n",
    "\r\n",
    "In our quest to offer the ultimate movie recommendations, we’ve reached the pinnacle of personalized movie curation with the Hybrid-Based Recommendation system. This powerful approach combines the strengths of Content-based Filtering, Collaborative Filtering and Weighted Score to consider additional factors like popularity or the weighted average rating of a movie. The data score that we already get before can be using a mix of weighted average and popularity, which can be incorporated into the hybrid model to make the recommendations more robust.\r\n"
   ]
  },
  {
   "cell_type": "markdown",
   "id": "888956ee-1a39-4f3c-b16a-ed6c15caed65",
   "metadata": {},
   "source": [
    "#### 5.5.1 Predicting Movie Ratings for Users\r\n",
    "\r\n",
    "In this part we will make a prediction how much a user might like a movie by giving it a rating. The function uses a mix of different methods: Collaborative Filtering, Content-Based Filtering, and Weighted Scoring to make this prediction as accurate as possible. It takes in the ID of a user and the ID of a movie, and then returns a predicted rating that shows how much that particular user is expected to like that particular movie.\r\n"
   ]
  },
  {
   "cell_type": "code",
   "execution_count": null,
   "id": "3bb8aa15-4fff-48d2-9d03-677d5d9a75b8",
   "metadata": {},
   "outputs": [],
   "source": [
    "def hybrid_predicted_rating(userId, movieId):\n",
    "    # Collaborative Filtering Prediction\n",
    "    collaborative_rating = algo.predict(userId, movieId).est\n",
    "    \n",
    "    # Content-Based Filtering Prediction\n",
    "    sim_scores = list(enumerate(cosine_sim2[movieId]))\n",
    "    sim_scores = sorted(cosine_sim2, key=lambda x: x[1], reverse=True)\n",
    "    sim_scores = sim_scores[1:11]  # Top 10 similar movies\n",
    "    movie_indices = [i[0] for i in sim_scores]\n",
    "    \n",
    "    similar_movies = movies_df.iloc[movie_indices]\n",
    "    similar_movies['est'] = similar_movies['id'].apply(lambda x: algo.predict(userId, x).est)\n",
    "    content_rating = similar_movies['est'].mean()\n",
    "    \n",
    "    # Getting the Weighted Score\n",
    "    weighted_score = weighted_df.loc[movies_df.loc[movieId, 'id'], 'score']\n",
    "    \n",
    "    # Hybrid Prediction using weighted average of collaborative_rating, content_rating, and weighted_score\n",
    "    final_rating = (0.5 * collaborative_rating) + (0.2 * content_rating) + (0.3 * weighted_score)\n",
    "    \n",
    "    return final_rating\n",
    "\n",
    "# Predict the rating for userId=1 and movieId=500\n",
    "predicted_rating = hybrid_predicted_rating(userId=1, movieId=500)\n",
    "print(f\"The predicted hybrid rating for userId=1 and movieId=500 is: {predicted_rating}\")"
   ]
  },
  {
   "cell_type": "markdown",
   "id": "afaa05d1-6e0c-400e-92c8-2aa6cd9d8d0c",
   "metadata": {},
   "source": [
    "#### Output :"
   ]
  },
  {
   "cell_type": "markdown",
   "id": "23d2f27f-dde0-4b8d-aa47-027c8e46acde",
   "metadata": {},
   "source": [
    "```python\n",
    "The predicted hybrid rating for userId=1 and movieId=500 is: 1.8917287610381568"
   ]
  },
  {
   "cell_type": "markdown",
   "id": "941cea5e-f2af-473d-8cec-83a0cd065f0c",
   "metadata": {},
   "source": [
    "#### 5.5.2 Recommending Movies for Old Users\r\n",
    "\r\n",
    "In this section, we will generate movie recommendations for users through our Hybrid Movie Recommender System. It requires a user ID and The function first uses collaborative filtering to predict movie ratings based on the user’s past behavior. It then employs content-based filtering to find movies similar to the user’s last watched movie. The function combines these two sets of recommendations, giving them equal weight, to generate a final list of top 10 recommended movies. This hybrid approach aims to provide more accurate and personalized movie suggestions.\r\n"
   ]
  },
  {
   "cell_type": "code",
   "execution_count": null,
   "id": "dcc3d704-19d8-4530-9146-33a7829efe3b",
   "metadata": {},
   "outputs": [],
   "source": [
    "def fetch_weighted_scores(movie_ids, movies_df, weighted_df):\n",
    "    weighted_df = weighted_df.loc[~weighted_df.index.duplicated(keep='first')]\n",
    "    weighted_scores = {}\n",
    "    for movie_id in movie_ids:\n",
    "        if movie_id in weighted_df.index:\n",
    "            weighted_scores[movie_id] = weighted_df.loc[movie_id]['score']\n",
    "        else:\n",
    "            weighted_scores[movie_id] = 0  # Assign default score of 0\n",
    "    return weighted_scores\n",
    "\n",
    "# Utility function to show details of recommended movies\n",
    "def show_movie_details(movie_ids, movies_df):\n",
    "    # Fetch movie details like title, genre, and director from the movies_df DataFrame\n",
    "    details_df = movies_df[movies_df['id'].isin(movie_ids)][['title', 'year', 'genres', 'director']]\n",
    "    \n",
    "    # Display the details\n",
    "    print(\"Recommended Movies:\")\n",
    "    for index, row in details_df.iterrows():\n",
    "        print(f\"Title: {row['title']} ({row['year']}), Genres: {', '.join(row['genres'])}, Director: {row['director']}\")\n",
    "\n",
    "def hybrid_recommendation(user_id, n=10):\n",
    "    user_ratings = ratings_df[ratings_df['userId'] == user_id]\n",
    "    predictions = []\n",
    "    for index, row in user_ratings.iterrows():\n",
    "        pred = algo.predict(row['userId'], row['movieId']).est\n",
    "        predictions.append((row['movieId'], pred))\n",
    "    top_collab_movies = [x[0] for x in sorted(predictions, key=lambda x: x[1], reverse=True)[:n]]\n",
    "    \n",
    "    last_watched_movieId = user_ratings.iloc[-1]['movieId']\n",
    "    if last_watched_movieId in movies_df['id'].values:\n",
    "        watched_movie_idx = movies_df[movies_df['id'] == last_watched_movieId].index[0]\n",
    "        similar_movies = list(enumerate(cosine_sim2[watched_movie_idx]))\n",
    "        sorted_similar_movies = sorted(similar_movies, key=lambda x: x[1], reverse=True)[1:n+1]\n",
    "        top_content_movies = [movies_df.iloc[i[0]]['id'] for i in sorted_similar_movies]\n",
    "    else:\n",
    "        print(f\"Movie ID {last_watched_movieId} not found in movies_df.\")\n",
    "        top_content_movies = []\n",
    "\n",
    "    collab_weighted_scores = fetch_weighted_scores(top_collab_movies, movies_df, weighted_df)\n",
    "    content_weighted_scores = fetch_weighted_scores(top_content_movies, movies_df, weighted_df)\n",
    "    \n",
    "    combined_scores = {}\n",
    "    for movie_id, score in collab_weighted_scores.items():\n",
    "        combined_scores[movie_id] = combined_scores.get(movie_id, 0) + 0.5 * score\n",
    "    for movie_id, score in content_weighted_scores.items():\n",
    "        combined_scores[movie_id] = combined_scores.get(movie_id, 0) + 0.5 * score\n",
    "    sorted_movies = sorted(combined_scores.keys(), key=lambda x: combined_scores[x], reverse=True)\n",
    "    return sorted_movies[:n]\n",
    "\n",
    "# Test the hybrid recommendation function\n",
    "user_id = 36\n",
    "recommended_movies = hybrid_recommendation(user_id)\n",
    "print(f\"Recommended movies for user {user_id}: {recommended_movies}\")\n",
    "show_movie_details(recommended_movies, movies_df)"
   ]
  },
  {
   "cell_type": "markdown",
   "id": "d6de9a3c-5c88-4282-a5a4-79817e13640e",
   "metadata": {},
   "source": [
    "#### Output :"
   ]
  },
  {
   "cell_type": "markdown",
   "id": "7896918f-e6dd-4eb6-80ad-de95f7214887",
   "metadata": {},
   "source": [
    "```python\n",
    "Recommended Movies for user 36 :\r\n",
    "Title: Once Were Warriors (1994), Genres: drama, Director: leetamahori\r\n",
    "Title: Rocky (1976), Genres: drama, Director: johng.avildsen\r\n",
    "Title: Rocky III (1982), Genres: drama, Director: sylvesterstallone\r\n",
    "Title: Rocky IV (1985), Genres: drama, Director: sylvesterstallone\r\n",
    "Title: Scarface (1983), Genres: action, crime, drama, Director: briandepalma\r\n",
    "Title: Rome, Open City (1945), Genres: drama, history, Director: robertorossellini\r\n",
    "Title: Zatoichi (2003), Genres: adventure, drama, action, Director: takeshikitano\r\n",
    "Title: Rumble Fish (1983), Genres: action, adventure, crime, Director: francisfordcoppola\r\n",
    "Title: Broken Flowers (2005), Genres: comedy, drama, mystery, Director: jimjarmusch\r\n",
    "Title: Rocky Balboa (2006), Genres: drama, Director: sylvesterstallone"
   ]
  },
  {
   "cell_type": "markdown",
   "id": "f85d74c4-5c25-42ba-bece-8d778d176cce",
   "metadata": {},
   "source": [
    "#### 5.5.3 Recommending Movies for New Users\r\n",
    "\r\n",
    "In this section, we explore various strategies to recommend movies to new users who have no historical data. We use two different approaches to tackle this issue:"
   ]
  },
  {
   "cell_type": "markdown",
   "id": "272d4d41-f0fd-4e81-9367-8825575f3c6a",
   "metadata": {},
   "source": [
    "\r\n",
    "#### 5.5.3.1 Recommendation Top Popular Movies\r\n",
    "\r\n",
    "In this section we will provides a solution to the ‘cold start’ problem by recommending top-rated and recent movies to new users. It uses a DataFrame of movie IDs and their weighted scores to generate a list of top n movies from the last min_year years. The recommendations are sorted by a score that blends both popularity and user ratings. The function is designed to be flexible, allowing you to specify the number of recommendations and the time frame for recent movies.\r"
   ]
  },
  {
   "cell_type": "code",
   "execution_count": null,
   "id": "d7fd89e6-5c5f-4d98-a418-979a67337de9",
   "metadata": {},
   "outputs": [],
   "source": [
    "def recommend_for_new_user_top_rating_movies(df, movies_df, n=10, min_year=5):\n",
    "    \"\"\"\n",
    "    Recommend the top n movies for a new user based on weighted rating scores.\n",
    "    \n",
    "    Parameters:\n",
    "    df (DataFrame): DataFrame containing movie IDs and their weighted scores.\n",
    "    n (int): Number of top movies to recommend.\n",
    "    \n",
    "    Returns:\n",
    "    DataFrame: Top n recommended movies for a new user.\n",
    "    \"\"\"\n",
    "    # Get the current year\n",
    "    current_year = datetime.now().year\n",
    "\n",
    "    # Sort the DataFrame based on the 'score' column in descending order.\n",
    "    sorted_df = df.copy()\n",
    "    sorted_df = pd.merge(sorted_df, movies_df[['id','year']], on='id', how='left')\n",
    "    sorted_df['year'] = sorted_df['year'].fillna(0).astype(int)\n",
    "    sorted_df = sorted_df[sorted_df['year']>=(current_year-min_year)]\n",
    "    sorted_df = sorted_df.sort_values(by='score', ascending=False)\n",
    "    # Return the top n movies.\n",
    "    return sorted_df.head(n)\n",
    "\n",
    "# Get the top 5 recommended movies for a new user\n",
    "top_movies = recommend_for_new_user_top_rating_movies(weighted_df, movies_df[['id','year']], n=10, min_year=8)\n",
    "show_movie_details(top_movies['id'], movies_df)"
   ]
  },
  {
   "cell_type": "markdown",
   "id": "eb03aff1-d027-4f3b-9947-2108e0a3e0af",
   "metadata": {},
   "source": [
    "#### Output : "
   ]
  },
  {
   "cell_type": "markdown",
   "id": "206fea8f-7b06-42a8-921a-c2b73a5ef307",
   "metadata": {},
   "source": [
    "```python\n",
    "Recommended Movies:\r\n",
    "Title: Pirates of the Caribbean: Dead Men Tell No Tales (2017), Genres: adventure, action, fantasy, Director: joachimrønning\r\n",
    "Title: Deadpool (2016), Genres: action, adventure, comedy, Director: timmiller\r\n",
    "Title: Guardians of the Galaxy Vol. 2 (2017), Genres: action, adventure, comedy, Director: jamesgunn\r\n",
    "Title: Captain America: Civil War (2016), Genres: adventure, action, sciencefiction, Director: anthonyrusso\r\n",
    "Title: Minions (2015), Genres: family, animation, adventure, Director: kylebalda\r\n",
    "Title: Wonder Woman (2017), Genres: action, adventure, fantasy, Director: pattyjenkins\r\n",
    "Title: Your Name. (2016), Genres: romance, animation, drama, Director: makotoshinkai\r\n",
    "Title: Beauty and the Beast (2017), Genres: family, fantasy, romance, Director: billcondon\r\n",
    "Title: Baby Driver (2017), Genres: action, crime, Director: edgarwright\r\n",
    "Title: War for the Planet of the Apes (2017), Genres: drama, sciencefiction, war, Director: mattreeves"
   ]
  },
  {
   "cell_type": "markdown",
   "id": "dd0f9208-ea9f-4254-b9e7-7dd95db055d4",
   "metadata": {},
   "source": [
    "#### 5.5.3.2 Recommendation Top Popular Movies\n",
    "\r\n",
    "In this section we will offers other approach to tackle the ‘cold start’ problem by recommending top-rated movies in various genres. It goes beyond a one-size-fits-all method and provides genre-specific lists of top n movies from the last min_year years. This way, new users can pick movies aligned with their genre preferences right from the start. The function returns a dictionary where each genre maps to a DataFrame of top recommendations, making it a versatile tool for personalized suggestions.\r\n"
   ]
  },
  {
   "cell_type": "code",
   "execution_count": null,
   "id": "0a7d6e40-8b5d-4c59-81b4-6c53a4c72f9a",
   "metadata": {},
   "outputs": [],
   "source": [
    "def recommend_for_new_user_by_genre(df, movies_df, genres, n=10, min_year=5):\n",
    "    \"\"\"\n",
    "    Recommend the top n movies for a new user based on weighted rating scores for each genre.\n",
    "    \n",
    "    Parameters:\n",
    "    df (DataFrame): DataFrame containing movie IDs and their weighted scores.\n",
    "    movies_df (DataFrame): DataFrame containing movie details.\n",
    "    genres (list): List of genres to consider.\n",
    "    n (int): Number of top movies to recommend for each genre.\n",
    "    min_year (int): Minimum year for movies to be considered.\n",
    "    \n",
    "    Returns:\n",
    "    dict: Dictionary where keys are genres and values are DataFrames containing top n recommended movies for that genre.\n",
    "    \"\"\"\n",
    "    recommendations = {}\n",
    "    \n",
    "    movies_df = movies_df[['id','year', 'genres']]\n",
    "    \n",
    "    # Get the current year\n",
    "    current_year = datetime.now().year\n",
    "    \n",
    "    for genre in genres:\n",
    "        # Filter movies by genre\n",
    "        genre_movies_df = movies_df[movies_df['genres'].apply(lambda x: genre in x if x else False)]\n",
    "        \n",
    "        # Merge with the df DataFrame to get scores\n",
    "        genre_df = pd.merge(df, genre_movies_df[['id', 'year']], on='id', how='left')\n",
    "        \n",
    "        # Filter movies released in the last min_year years\n",
    "        genre_df['year'] = genre_df['year'].fillna(0).astype(int)\n",
    "        genre_df = genre_df[genre_df['year'] >= (current_year - min_year)]\n",
    "        \n",
    "        # Sort by score\n",
    "        genre_df = genre_df.sort_values(by='score', ascending=False)\n",
    "        \n",
    "        # Get top n movies for this genre\n",
    "        recommendations[genre] = genre_df.head(n)\n",
    "        \n",
    "    return recommendations\n",
    "\n",
    "# List of genres to consider\n",
    "# Extract unique genres\n",
    "genres_set = set()\n",
    "for genres_list in movies_df['genres']:\n",
    "    genres_set.update(genres_list)\n",
    "\n",
    "# Convert to list\n",
    "genres_list = list(genres_set)\n",
    "\n",
    "# Get the top 10 recommended movies for a new user for each genre\n",
    "top_movies_by_genre = recommend_for_new_user_by_genre(weighted_df, movies_df, genres_list, n=10, min_year=10)\n",
    "for genre in genres_list:\n",
    "    print(genre)\n",
    "    show_movie_details(top_movies_by_genre[genre]['id'], movies_df)"
   ]
  },
  {
   "cell_type": "markdown",
   "id": "70fdcfa7-77fd-47b6-97b0-55608d71e8b9",
   "metadata": {},
   "source": [
    "#### Output :"
   ]
  },
  {
   "cell_type": "markdown",
   "id": "72492ef3-cf59-444a-be68-c18a6e22a19f",
   "metadata": {},
   "source": [
    "```python\n",
    "Recommended Movies for Genre Dramas :\r\n",
    "Title: 12 Years a Slave (2013), Genres: drama, history, Director: stevemcqueen\r\n",
    "Title: Interstellar (2014), Genres: adventure, drama, sciencefiction, Director: christophernolan\r\n",
    "Title: Whiplash (2014), Genres: drama, Director: damienchazelle\r\n",
    "Title: Gone Girl (2014), Genres: mystery, thriller, drama, Director: davidfincher\r\n",
    "Title: Dawn of the Planet of the Apes (2014), Genres: sciencefiction, action, drama, Director: mattreeves\r\n",
    "Title: The Imitation Game (2014), Genres: history, drama, thriller, Director: mortentyldum\r\n",
    "Title: Inside Out (2015), Genres: drama, comedy, animation, Director: petedocter\r\n",
    "Title: Your Name. (2016), Genres: romance, animation, drama, Director: makotoshinkai\r\n",
    "Title: Logan (2017), Genres: action, drama, sciencefiction, Director: jamesmangold\r\n",
    "Title: War for the Planet of the Apes (2017), Genres: drama, sciencefiction, war, Director: mattreeves\r\n",
    "\r\n",
    "Recommended Movies for Genre Comedy :\r\n",
    "Title: About Time (2013), Genres: comedy, drama, sciencefiction, Director: richardcurtis\r\n",
    "Title: The Wolf of Wall Street (2013), Genres: crime, drama, comedy, Director: martinscorsese\r\n",
    "Title: The Grand Budapest Hotel (2014), Genres: comedy, drama, Director: wesanderson\r\n",
    "Title: Love, Rosie (2014), Genres: comedy, romance, Director: christianditter\r\n",
    "Title: Kingsman: The Secret Service (2015), Genres: crime, comedy, action, Director: matthewvaughn\r\n",
    "Title: Deadpool (2016), Genres: action, adventure, comedy, Director: timmiller\r\n",
    "Title: Guardians of the Galaxy Vol. 2 (2017), Genres: action, adventure, comedy, Director: jamesgunn\r\n",
    "Title: Inside Out (2015), Genres: drama, comedy, animation, Director: petedocter\r\n",
    "Title: Captain Fantastic (2016), Genres: adventure, comedy, drama, Director: mattross\r\n",
    "Title: La La Land (2016), Genres: comedy, drama, music, Director: damienchazelle\r\n",
    "\r\n",
    "Recommended Movies for Genre Science Fiction:\r\n",
    "Title: Her (2013), Genres: romance, sciencefiction, drama, Director: spikejonze\r\n",
    "Title: Interstellar (2014), Genres: adventure, drama, sciencefiction, Director: christophernolan\r\n",
    "Title: Edge of Tomorrow (2014), Genres: action, sciencefiction, Director: dougliman\r\n",
    "Title: Dawn of the Planet of the Apes (2014), Genres: sciencefiction, action, drama, Director: mattreeves\r\n",
    "Title: Guardians of the Galaxy (2014), Genres: action, sciencefiction, adventure, Director: jamesgunn\r\n",
    "Title: The Maze Runner (2014), Genres: action, mystery, sciencefiction, Director: wesball\r\n",
    "Title: The Hunger Games: Mockingjay - Part 1 (2014), Genres: sciencefiction, adventure, thriller, Director: francislawrence\r\n",
    "Title: Captain America: Civil War (2016), Genres: adventure, action, sciencefiction, Director: anthonyrusso\r\n",
    "Title: Logan (2017), Genres: action, drama, sciencefiction, Director: jamesmangold\r\n",
    "Title: War for the Planet of the Apes (2017), Genres: drama, sciencefiction, war, Director: mattreeves\r\n",
    "\r\n",
    "Recommended Movies for Genre Animation:\r\n",
    "Title: The Lego Movie (2014), Genres: adventure, animation, comedy, Director: phillord\r\n",
    "Title: Big Hero 6 (2014), Genres: adventure, family, animation, Director: chriswilliams\r\n",
    "Title: Inside Out (2015), Genres: drama, comedy, animation, Director: petedocter\r\n",
    "Title: Minions (2015), Genres: family, animation, adventure, Director: kylebalda\r\n",
    "Title: Zootopia (2016), Genres: animation, adventure, family, Director: byronhoward\r\n",
    "Title: Zootopia (2016), Genres: animation, adventure, family, Director: byronhoward\r\n",
    "Title: Piper (2016), Genres: family, animation, Director: alanbarillaro\r\n",
    "Title: Your Name. (2016), Genres: romance, animation, drama, Director: makotoshinkai"
   ]
  },
  {
   "cell_type": "markdown",
   "id": "9214a7db-ece6-44ad-bfa5-5ad037bd0786",
   "metadata": {},
   "source": [
    "### 6. Conclusion on\r\n",
    "\r\n",
    "The comprehensive study presented in this article aims to build an effective movie recommender system using various machine learning techniques. We commenced our exploration with baseline models, such as Global Mean Rating, User Mean Rating, and Item Mean Rating, utilizing RMSE as a key performance metric. Advanced models like SVD, KNNWithZScore, and SVDpp were later introduced, with SVD emerging as the top performer after rigorous hyperparameter tuning and validation.\r\n",
    "\r\n",
    "The article further extends into hybrid approaches, blending the strengths of both collaborative and content-based filtering methods, to provide a more personalized user experience. We also addressed the ‘cold start’ problem with new users, offering them top-rated and genre-specific movie recommendations.\r\n",
    "\r\n",
    "The end result is a well-rounded, efficient, and adaptable movie recommender system that not only excels in training scenarios but also shows robust generalization when applied to unseen data.\r\n"
   ]
  },
  {
   "cell_type": "code",
   "execution_count": null,
   "id": "65445352-2098-49dd-a263-212a12881dc6",
   "metadata": {},
   "outputs": [],
   "source": []
  }
 ],
 "metadata": {
  "kernelspec": {
   "display_name": "anaconda-panel-2023.05-py310",
   "language": "python",
   "name": "conda-env-anaconda-panel-2023.05-py310-py"
  },
  "language_info": {
   "codemirror_mode": {
    "name": "ipython",
    "version": 3
   },
   "file_extension": ".py",
   "mimetype": "text/x-python",
   "name": "python",
   "nbconvert_exporter": "python",
   "pygments_lexer": "ipython3",
   "version": "3.11.5"
  }
 },
 "nbformat": 4,
 "nbformat_minor": 5
}
